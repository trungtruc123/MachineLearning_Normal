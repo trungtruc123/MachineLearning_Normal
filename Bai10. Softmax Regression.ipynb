{
 "cells": [
  {
   "cell_type": "code",
   "execution_count": 46,
   "metadata": {},
   "outputs": [
    {
     "name": "stdout",
     "output_type": "stream",
     "text": [
      "X =  [[ 0.23552105 -0.7871293   0.31218808  0.85457857 -0.01428185  0.49522698\n",
      "   0.33369279 -0.31726095  0.1159738   0.54472938]\n",
      " [-0.92720894 -0.30002309  0.53375866 -0.61712111  0.0827234   0.17707076\n",
      "   0.4600514   0.20601513 -0.83801156  0.15558632]\n",
      " [-1.03088188 -2.02158516 -0.36300032 -0.91705819 -0.02927947 -1.00100121\n",
      "   0.29634139  2.19516956  1.15807316  1.10714671]\n",
      " [ 0.64815798  0.3699437   0.28347522 -0.93133666  0.41927318  1.33830458\n",
      "  -0.75993151  0.30558934 -0.89814925  1.91298653]\n",
      " [-0.74338469  0.36568769  1.07215589 -0.76298682  0.13225468 -0.11781049\n",
      "  -0.95439538  0.91829822  0.12264995 -0.15024881]]\n",
      "y =  [0 0 2 1 3 2 1 2 2 0]\n",
      "Y:one hot coding [[1 1 0 0 0 0 0 0 0 1]\n",
      " [0 0 0 1 0 0 1 0 0 0]\n",
      " [0 0 1 0 0 1 0 1 1 0]\n",
      " [0 0 0 0 1 0 0 0 0 0]]\n",
      "W_init [[-0.99802683 -1.01798266 -0.35114942  0.76946591]\n",
      " [ 1.59932652  0.75312664  0.34060519 -0.34058002]\n",
      " [ 0.83868474  1.84082335  1.94514262  0.84494499]\n",
      " [ 0.5628004  -0.21181514 -0.25745644  0.58097895]\n",
      " [-1.93428589 -1.89683763  0.27989295 -0.74178039]]\n",
      "sai số của đạo hàm bằng tay với xấp sỉ đạo hàm:  3.2010436684690115e-09\n"
     ]
    }
   ],
   "source": [
    "import numpy as np\n",
    "\n",
    "# np.random.seed(2)\n",
    "# a = softmax(z)\n",
    "def softmax(z):\n",
    "    \"\"\"\n",
    "    Compute softmax values for each sets of scores in V.\n",
    "    each column of V is a set of score.    \n",
    "    \"\"\"\n",
    "    e_z = np.exp(z)\n",
    "    A   = e_z/e_z.sum(axis =0)\n",
    "    return A\n",
    "def softmax_stable(z):\n",
    "    \"\"\"\n",
    "    Compute softmax values for each sets of scores in Z.\n",
    "    each column of Z is a set of score.    \n",
    "    \"\"\"\n",
    "    #C = max(z)\n",
    "    e_z = np.exp(z- np.max(z, axis = 0, keepdims = True ))\n",
    "    A = e_z/e_z.sum(axis = 0) # axis =0 \n",
    "    return A\n",
    "\n",
    "import numpy as np \n",
    "\n",
    "# randomly generate data \n",
    "N = 10 # number of training sample \n",
    "d = 5 # data dimension (tính luôn x0 =1)\n",
    "C = 4 # number of classes \n",
    "\n",
    "X = np.random.randn(d, N)\n",
    "print('X = ',X)\n",
    "y = np.random.randint(0, 4,N)\n",
    "print('y = ',y)\n",
    "#one-hot coding\n",
    "from scipy import sparse\n",
    "def convert_labels(y, C = C): # one hot coding of class y => Y\n",
    "    \"\"\"\n",
    "    convert 1d label to a matrix label: each column of this \n",
    "    matrix coresponding to 1 element in y. In i-th column of Y, \n",
    "    only one non-zeros element located in the y[i]-th position, \n",
    "    and = 1 ex: y = [0, 2, 1, 0], and 3 classes then return\n",
    "\n",
    "            [[1, 0, 0, 1],\n",
    "             [0, 0, 1, 0],\n",
    "             [0, 1, 0, 0]]\n",
    "    \"\"\"\n",
    "    Y = sparse.coo_matrix((np.ones_like(y),(y, np.arange(len(y)))), shape = (C, len(y))).toarray()\n",
    "    return Y\n",
    "Y = convert_labels(y, C)\n",
    "print('Y:one hot coding',Y)\n",
    "\n",
    "# cost or loss function  \n",
    "def cost(X,Y,W):\n",
    "    A = softmax(W.T.dot(X))\n",
    "    return -np.sum(Y*np.log(A))\n",
    "# gradient\n",
    "def grad(X,Y, W):\n",
    "    A = softmax(W.T.dot(X))\n",
    "    return np.dot(X,((A-Y).T))\n",
    "\n",
    "W_init = np.random.randn(d,C)\n",
    "print('W_init',W_init)\n",
    "# hàm kiểm tra đạo hàm\n",
    "def numerical_grad(X,Y,W,cost):\n",
    "    eps =1e-6\n",
    "    g = np.zeros_like(W)\n",
    "    for i in range(W.shape[0]):\n",
    "        for j in range(W.shape[1]):\n",
    "            W_p = W.copy()\n",
    "            W_n = W.copy()\n",
    "            W_p[i,j] +=eps\n",
    "            W_n[i,j] -=eps\n",
    "            g[i,j] = (cost(X,Y,W_p)- cost(X,Y,W_n))/(2*eps)\n",
    "    return g\n",
    "g1 = grad(X,Y,W_init)\n",
    "g2 = numerical_grad(X,Y,W_init, cost)\n",
    "print('sai số của đạo hàm bằng tay với xấp sỉ đạo hàm: ',np.linalg.norm(g1-g2))"
   ]
  },
  {
   "cell_type": "markdown",
   "metadata": {},
   "source": [
    "# hàm chính cho train softmax regression"
   ]
  },
  {
   "cell_type": "code",
   "execution_count": 52,
   "metadata": {},
   "outputs": [
    {
     "name": "stdout",
     "output_type": "stream",
     "text": [
      "weight:  [[-4.96518001  1.46098644  6.70593167 -1.01727454]\n",
      " [-3.95003506  2.25158146 -2.87996142  2.34178329]\n",
      " [ 0.28492997 -1.73477038 -0.86104004 -0.56880771]\n",
      " [ 2.71780541 -3.93908525 -0.27569101  0.17215751]\n",
      " [-4.09552823 -3.43437221  7.22287799  0.03095592]]\n",
      "predict labels cho diem du lieu:  [0 0 2 1 2 2 1 2 2 0]\n"
     ]
    }
   ],
   "source": [
    "def softmax_regression(X,y, w_init, eta, tol =1e-4, max_counts =10000):\n",
    "    w =[w_init] # để lưu history of weight\n",
    "    check_w_after =20\n",
    "    it =0\n",
    "    counts =0\n",
    "    C = W_init.shape[1] #classes classification\n",
    "    N = X.shape[1]\n",
    "    d = X.shape[0]\n",
    "    Y = convert_labels(y,C) # labels haved one hot coding\n",
    "    while counts < max_counts:\n",
    "        #mix data\n",
    "        mix_id = np.random.permutation(N)\n",
    "        for i in mix_id:\n",
    "            xi = X[:,i].reshape(d,1)\n",
    "            yi = Y[:,i].reshape(C,1)\n",
    "            ai = softmax(w[-1].T.dot(xi))\n",
    "            w_new = w[-1] - eta*xi.dot((ai - yi).T)\n",
    "            counts +=1\n",
    "            # stopping criteria\n",
    "            if counts % check_w_after ==0:\n",
    "                if (np.linalg.norm(w_new - w[-check_w_after]))< tol:\n",
    "                    return w\n",
    "            w.append(w_new)\n",
    "    return w\n",
    "eta =0.05\n",
    "d = X.shape[0]\n",
    "w_init = np.random.randn(d,C)\n",
    "\n",
    "w =softmax_regression(X,y,w_init,eta)\n",
    "print('weight: ',w[-1])\n",
    "\n",
    "# Hàm dự đoán dữ liệu cho class mới\n",
    "def pred_label(W,X):\n",
    "    \"\"\"\n",
    "    predict output of each columns of X\n",
    "    Class of each x_i is determined by location of max probability\n",
    "    Note that class are indexed by [0, 1, 2, ...., C-1]\n",
    "    \"\"\"\n",
    "    A = softmax_stable(np.dot(W.T,X))\n",
    "    return np.argmax(A, axis =0)\n",
    "print( 'predict labels cho diem du lieu: ', pred_label(w[-1],X))"
   ]
  },
  {
   "cell_type": "code",
   "execution_count": 112,
   "metadata": {},
   "outputs": [
    {
     "name": "stdout",
     "output_type": "stream",
     "text": [
      "[[1.         1.         1.         ... 1.         1.         1.        ]\n",
      " [1.67526196 1.67418231 1.30285837 ... 6.70476408 7.77154387 7.05830106]\n",
      " [2.93467678 1.8277259  1.22681119 ... 8.71696428 7.41345671 8.97190384]]\n",
      "[0 0 0 ... 3 3 3]\n"
     ]
    },
    {
     "data": {
      "image/png": "[encoded data removed]",
      "text/plain": [
       "<Figure size 432x288 with 1 Axes>"
      ]
     },
     "metadata": {
      "needs_background": "light"
     },
     "output_type": "display_data"
    },
    {
     "name": "stdout",
     "output_type": "stream",
     "text": [
      "[[ 9.98190018 -2.85210799  1.97899165 -9.55586415]\n",
      " [-1.80547832  0.89978806 -2.22574475 -0.34125711]\n",
      " [-0.69274549 -0.76773144  1.85575912  2.05822291]]\n",
      "predict labels cho diem du lieu:  [0 0 0 ... 3 3 3]\n"
     ]
    }
   ],
   "source": [
    "# simulated data\n",
    "means =[[2,2],[8,3],[3,6],[7,9]]\n",
    "cov   = [[1,0],[0,1]]\n",
    "N =500\n",
    "X0 = np.random.multivariate_normal(means[0],cov,N) # mỗi hàng là 1 điểm dữ liệu\n",
    "X1 = np.random.multivariate_normal(means[1],cov,N)\n",
    "X2 = np.random.multivariate_normal(means[2],cov,N)\n",
    "X3 = np.random.multivariate_normal(means[3],cov,N)\n",
    "# each column is a datapoint\n",
    "X = np.concatenate((X0,X1,X2,X3),axis =0).T\n",
    "# print(X)\n",
    "# extended data\n",
    "X = np.concatenate((np.ones((1,4*N)),X), axis =0)\n",
    "print(X)\n",
    "C =4\n",
    "origin_labels = np.asarray([0]*N + [1]*N + [2]*N + [3]*N).T\n",
    "print(origin_labels)\n",
    "import matplotlib.pyplot as plt\n",
    "plt.plot(X0[:,0],X0[:,1],'ro',markersize=2)\n",
    "plt.plot(X1[:,0],X1[:,1],'b^',markersize=2)\n",
    "plt.plot(X2[:,0],X2[:,1],'y*',markersize =2)\n",
    "plt.plot(X3[:,0],X3[:,1],'g<',markersize =2)\n",
    "plt.show()\n",
    "# Thực hiện softmax regression\n",
    "w_init = np.random.randn(X.shape[0],C)\n",
    "W      = softmax_regression(X,origin_labels,w_init, 0.05)\n",
    "print(W[-1])\n",
    "print( 'predict labels cho diem du lieu: ', pred_label(W[-1],X))"
   ]
  },
  {
   "cell_type": "code",
   "execution_count": 113,
   "metadata": {},
   "outputs": [],
   "source": [
    "# library softmax regression\n",
    "from sklearn import linear_model\n",
    "model = linear_model.LogisticRegression(C=1e5, multi_class ='multinomial', solver= 'lbfgs') # solver: giống gradient (SGD)\n"
   ]
  }
 ],
 "metadata": {
  "kernelspec": {
   "display_name": "Python 3",
   "language": "python",
   "name": "python3"
  },
  "language_info": {
   "codemirror_mode": {
    "name": "ipython",
    "version": 3
   },
   "file_extension": ".py",
   "mimetype": "text/x-python",
   "name": "python",
   "nbconvert_exporter": "python",
   "pygments_lexer": "ipython3",
   "version": "3.7.1"
  }
 },
 "nbformat": 4,
 "nbformat_minor": 2
}
