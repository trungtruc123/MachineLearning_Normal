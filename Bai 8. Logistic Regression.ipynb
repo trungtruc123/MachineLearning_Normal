{
 "cells": [
  {
   "cell_type": "code",
   "execution_count": 13,
   "metadata": {},
   "outputs": [
    {
     "name": "stdout",
     "output_type": "stream",
     "text": [
      "[[1.   1.   1.   1.   1.   1.   1.   1.   1.   1.   1.   1.   1.   1.\n",
      "  1.   1.   1.   1.   1.   1.  ]\n",
      " [0.5  0.75 1.   1.25 1.5  1.75 1.75 2.   2.25 2.5  2.75 3.   3.25 3.5\n",
      "  4.   4.25 4.5  4.75 5.   5.5 ]]\n",
      "[[-4.09258882]\n",
      " [ 1.55273657]]\n",
      "y =  [[0.0350189  0.0507849  0.07311118 0.10417545 0.14635453 0.20176493\n",
      "  0.20176493 0.27148216 0.35458818 0.44750729 0.54424317 0.6377521\n",
      "  0.72187975 0.79281687 0.89267466 0.92459914 0.94758509 0.96383784\n",
      "  0.97518295 0.98842726]]\n"
     ]
    }
   ],
   "source": [
    "#Logistic Regression\n",
    "import matplotlib.pyplot as plt\n",
    "import numpy as np\n",
    "\n",
    "np.random.seed(2)\n",
    "# dữ liệu dựa trên thời gian học của học sinh => trượt hoặc đậu kì thi\n",
    "# X ; time study\n",
    "X = np.array([[0.50, 0.75, 1.00, 1.25, 1.50, 1.75, 1.75, 2.00, 2.25, 2.50, 2.75, 3.00, 3.25, 3.50, 4.00, 4.25, 4.50, 4.75, 5.00, 5.50]])\n",
    "# y : label (0,1)\n",
    "y = np.array([0, 0, 0, 0, 0, 0, 1, 0, 1, 0, 1, 0, 1, 0, 1, 1, 1, 1, 1, 1])\n",
    "# Build Xbar\n",
    "Xbar = np.concatenate((np.ones((1,X.shape[1])),X), axis =0)\n",
    "print( Xbar)\n",
    "\n",
    "def sigmod(s):\n",
    "    return 1/(1+np.exp(-s))\n",
    "def logistic_sigmod_regression(w_init, Xbar, y, eta, max_count =10000, tol =1e-4):\n",
    "    w =[w_init]\n",
    "    count =0\n",
    "    N = Xbar.shape[1]\n",
    "    d = Xbar.shape[0]\n",
    "    check_w_after = 20\n",
    "    while count< max_count:\n",
    "        #mix data\n",
    "        mis_id = np.random.permutation(N)\n",
    "        for i in mis_id:\n",
    "            xi = Xbar[:,i].reshape(d,1)\n",
    "            yi = y[i]\n",
    "            zi =sigmod(np.dot(w[-1].T,xi))\n",
    "            w_new = w[-1] - eta* (zi - yi)*xi\n",
    "            count +=1\n",
    "            # stopping criteria\n",
    "            if count % check_w_after == 0:\n",
    "                if np.linalg.norm(w_new - w[-check_w_after]) < tol:\n",
    "                    return w\n",
    "            w.append(w_new)\n",
    "    return w\n",
    "d = Xbar.shape[0]\n",
    "N = Xbar.shape[1]\n",
    "eta =0.05\n",
    "w_init = np.random.rand(d,1)\n",
    "w = logistic_sigmod_regression(w_init, Xbar, y, eta)\n",
    "print( w[-1])\n",
    "print( 'y = ',sigmod(np.dot(w[-1].T, Xbar)) )"
   ]
  },
  {
   "cell_type": "code",
   "execution_count": 28,
   "metadata": {},
   "outputs": [
    {
     "name": "stdout",
     "output_type": "stream",
     "text": [
      "[0.5  0.75 1.   1.25 1.5  1.75 2.   2.5  3.   3.5 ]\n",
      "[0 0 0 0 0 0 0 0 0 0]\n",
      "-4.092588822752519 1.5527365676023546\n"
     ]
    },
    {
     "data": {
      "image/png": "[encoded data removed]",
      "text/plain": [
       "<Figure size 432x288 with 1 Axes>"
      ]
     },
     "metadata": {
      "needs_background": "light"
     },
     "output_type": "display_data"
    }
   ],
   "source": [
    "X0 = Xbar [1, np.where( y==0)][0]\n",
    "y0 = y[np.where(y ==0)]\n",
    "print(X0)\n",
    "print(y0)\n",
    "X1 = Xbar [1,np.where(y==1)][0]\n",
    "y1 = y[np.where(y==1)]\n",
    "plt.plot(X0,y0,'ro', markersize =8)\n",
    "plt.plot(X1, y1, 'bs', markersize =8)\n",
    "# vẽ sigmod\n",
    "xx = np.linspace(0,6,1000)\n",
    "w0 = w[-1][0][0]\n",
    "w1 = w[-1][1][0]\n",
    "print(w0, w1)\n",
    "threshold = -w0/w1\n",
    "\n",
    "yy = sigmod(w0 + w1*xx)\n",
    "plt.plot(xx,yy,'g', linewidth =2)\n",
    "plt.plot(threshold,0.5,'y^')\n",
    "plt.xlabel('hour study')\n",
    "plt.ylabel('Predict pass')\n",
    "plt.show()"
   ]
  },
  {
   "cell_type": "markdown",
   "metadata": {},
   "source": [
    "# Trong không gian 2 chiều"
   ]
  },
  {
   "cell_type": "code",
   "execution_count": null,
   "metadata": {},
   "outputs": [],
   "source": []
  }
 ],
 "metadata": {
  "kernelspec": {
   "display_name": "Python 3",
   "language": "python",
   "name": "python3"
  },
  "language_info": {
   "codemirror_mode": {
    "name": "ipython",
    "version": 3
   },
   "file_extension": ".py",
   "mimetype": "text/x-python",
   "name": "python",
   "nbconvert_exporter": "python",
   "pygments_lexer": "ipython3",
   "version": "3.7.1"
  }
 },
 "nbformat": 4,
 "nbformat_minor": 2
}
