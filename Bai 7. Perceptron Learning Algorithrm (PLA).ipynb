{
 "cells": [
  {
   "cell_type": "code",
   "execution_count": 107,
   "metadata": {},
   "outputs": [
    {
     "name": "stdout",
     "output_type": "stream",
     "text": [
      "[[2.22096057 2.70132234 3.08493823 2.02701417 2.73223639 1.21171968\n",
      "  2.22920603 1.8637762  1.74682699 2.37191737 4.47403369 4.09281249\n",
      "  4.22222334 4.58438569 4.74493118 3.6355797  5.19217738 3.51075436\n",
      "  3.93784332 3.8787214 ]\n",
      " [2.19579728 3.43487375 2.70849736 1.47010441 2.32571583 2.23682627\n",
      "  1.72925457 1.59716548 2.27230351 2.37595358 2.4040742  1.65061706\n",
      "  2.11659863 2.05326933 2.67628604 2.63347726 3.2425902  2.11880111\n",
      "  1.56029947 2.12126884]]\n",
      "[[ 1.  1.  1.  1.  1.  1.  1.  1.  1.  1. -1. -1. -1. -1. -1. -1. -1. -1.\n",
      "  -1. -1.]]\n",
      "[[1.         1.         1.         1.         1.         1.\n",
      "  1.         1.         1.         1.         1.         1.\n",
      "  1.         1.         1.         1.         1.         1.\n",
      "  1.         1.        ]\n",
      " [2.22096057 2.70132234 3.08493823 2.02701417 2.73223639 1.21171968\n",
      "  2.22920603 1.8637762  1.74682699 2.37191737 4.47403369 4.09281249\n",
      "  4.22222334 4.58438569 4.74493118 3.6355797  5.19217738 3.51075436\n",
      "  3.93784332 3.8787214 ]\n",
      " [2.19579728 3.43487375 2.70849736 1.47010441 2.32571583 2.23682627\n",
      "  1.72925457 1.59716548 2.27230351 2.37595358 2.4040742  1.65061706\n",
      "  2.11659863 2.05326933 2.67628604 2.63347726 3.2425902  2.11880111\n",
      "  1.56029947 2.12126884]]\n"
     ]
    }
   ],
   "source": [
    "import numpy as np\n",
    "import matplotlib.pyplot as plt\n",
    "from scipy.spatial.distance import cdist\n",
    "np.random.seed(2)\n",
    "# Chúng ta sẽ tạo hai nhóm dữ liệu, mỗi nhóm có 10 điểm, mỗi điểm dữ liệu có hai chiều để thuận tiện cho việc minh họa. Sau đó, tạo dữ liệu mở rộng bằng cách thêm 1 vào đầu mỗi điểm dữ liệu.\n",
    "mean = [[2,2],[4,2]]\n",
    "cov  = [[0.3,0.2],[0.2,0.3]]\n",
    "\n",
    "N =10\n",
    "X0 = np.random.multivariate_normal(mean[0],cov,N).T\n",
    "X1 = np.random.multivariate_normal(mean[1],cov,N).T\n",
    "#data\n",
    "X  = np.concatenate((X0,X1),axis = 1)\n",
    "print(X)\n",
    "#nhãn ( 1, -1)\n",
    "y = np.concatenate((np.ones((1,N)), -1*np.ones((1,N))), axis =1)\n",
    "print(y)\n",
    "# Xbar\n",
    "Xbar = np.concatenate((np.ones((1,2*N)),X), axis =0)\n",
    "print(Xbar)"
   ]
  },
  {
   "cell_type": "code",
   "execution_count": 109,
   "metadata": {},
   "outputs": [
    {
     "name": "stdout",
     "output_type": "stream",
     "text": [
      "w: [[ 3.73118467]\n",
      " [-4.62709307]\n",
      " [ 4.24267166]]\n",
      "mis_point: 12\n"
     ]
    }
   ],
   "source": [
    "# h(w, x): tính đầu ra khi biết đầu vào x và weights w.\n",
    "# has_converged(X, y, w): kiểm tra xem thuật toán đã hội tụ chưa. Ta chỉ cần so sánh h(w, X) với ground truth y. Nếu giống nhau thì dừng thuật toán.\n",
    "# perceptron(X, y, w_init): hàm chính thực hiện PLA.\n",
    "def h (w, X):\n",
    "    return np.sign(np.dot(w.T,X))\n",
    "def has_converged(w,X,y):\n",
    "    return np.array_equal(h(w,X),y)\n",
    "def perceptron(Xbar,y, w_init):\n",
    "    w = [w_init]\n",
    "    N = Xbar.shape[1] # 20 cột\n",
    "    d = Xbar.shape[0] # 3 hàng\n",
    "    mis_points =[]\n",
    "    while True :\n",
    "        # mix data\n",
    "        mix_id = np.random.permutation(N)\n",
    "        for i in range(N):\n",
    "            xi = Xbar [:,mix_id[i]].reshape(d,1) # (3,1)\n",
    "            yi = y[0,mix_id[i]]\n",
    "            if h(w[-1], xi)[0] != yi: #misclassified point ( cập nhật lại trọng số w =w + xi * yi)\n",
    "                mis_points.append(mix_id[i])\n",
    "                w_new = w[-1] + xi*yi\n",
    "                w.append(w_new)\n",
    "        if has_converged(w[-1],Xbar, y):\n",
    "            break\n",
    "    return (w, mis_points)\n",
    "d = Xbar.shape[0]\n",
    "w_init = np.random.randn(d,1)\n",
    "(w, m) = perceptron(Xbar,y,w_init)\n",
    "print( 'w:',w[-1])\n",
    "print('mis_point:', len(m))\n",
    "weight = w[-1]\n",
    "w0 = weight[0][0]\n",
    "w1 = weight[1][0]\n",
    "w2 = weight[2][0]"
   ]
  },
  {
   "cell_type": "code",
   "execution_count": 118,
   "metadata": {},
   "outputs": [
    {
     "data": {
      "image/png": "[encoded data removed]",
      "text/plain": [
       "<Figure size 432x288 with 1 Axes>"
      ]
     },
     "metadata": {
      "needs_background": "light"
     },
     "output_type": "display_data"
    }
   ],
   "source": [
    "plt.plot(X0[0,:],X0[1,:],'b.', markersize =8)\n",
    "plt.plot(X1[0,:],X1[1,:],'r^', markersize =8)\n",
    "x11 ,x12 = 0, 7\n",
    "# y0 = w1*x1 + w2*x2 + w0\n",
    "plt.plot([x11, x12],[-(w1*x11 + w0)/w2, -(w1*x12 + w0)/w2],'k', linewidth =2)\n",
    "plt.axis([0, 7, -2, 5])\n",
    "plt.show()"
   ]
  }
 ],
 "metadata": {
  "kernelspec": {
   "display_name": "Python 3",
   "language": "python",
   "name": "python3"
  },
  "language_info": {
   "codemirror_mode": {
    "name": "ipython",
    "version": 3
   },
   "file_extension": ".py",
   "mimetype": "text/x-python",
   "name": "python",
   "nbconvert_exporter": "python",
   "pygments_lexer": "ipython3",
   "version": "3.7.1"
  }
 },
 "nbformat": 4,
 "nbformat_minor": 2
}
