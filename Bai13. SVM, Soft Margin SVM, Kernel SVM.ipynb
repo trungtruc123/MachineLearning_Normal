{
 "cells": [
  {
   "cell_type": "markdown",
   "metadata": {},
   "source": [
    "# Support Vector Machine (SVM thuần, Hard Margin SVM)"
   ]
  },
  {
   "cell_type": "code",
   "execution_count": 31,
   "metadata": {
    "scrolled": true
   },
   "outputs": [
    {
     "name": "stdout",
     "output_type": "stream",
     "text": [
      "X:  [[2.22096057 2.19579728]\n",
      " [2.70132234 3.43487375]\n",
      " [3.08493823 2.70849736]\n",
      " [2.02701417 1.47010441]\n",
      " [2.73223639 2.32571583]\n",
      " [1.21171968 2.23682627]\n",
      " [2.22920603 1.72925457]\n",
      " [1.8637762  1.59716548]\n",
      " [1.74682699 2.27230351]\n",
      " [2.37191737 2.37595358]\n",
      " [4.47403369 2.4040742 ]\n",
      " [4.09281249 1.65061706]\n",
      " [4.22222334 2.11659863]\n",
      " [4.58438569 2.05326933]\n",
      " [4.74493118 2.67628604]\n",
      " [3.6355797  2.63347726]\n",
      " [5.19217738 3.2425902 ]\n",
      " [3.51075436 2.11880111]\n",
      " [3.93784332 1.56029947]\n",
      " [3.8787214  2.12126884]]\n",
      "[ 1  1  1  1  1  1  1  1  1  1 -1 -1 -1 -1 -1 -1 -1 -1 -1 -1]\n",
      "SVC(C=100000.0, cache_size=200, class_weight=None, coef0=0.0,\n",
      "  decision_function_shape='ovr', degree=3, gamma='auto_deprecated',\n",
      "  kernel='linear', max_iter=-1, probability=False, random_state=None,\n",
      "  shrinking=True, tol=0.001, verbose=False)\n",
      "w:  [[-3.51459137]\n",
      " [ 0.85239658]]\n",
      "b:  [9.53306327]\n"
     ]
    }
   ],
   "source": [
    "import matplotlib.pyplot as plt\n",
    "import numpy as np\n",
    "from scipy.spatial.distance import cdist\n",
    "np.random.seed(2)\n",
    "means =[[2,2],[4,2]]\n",
    "cov  = [[0.3,0.2],[0.2,0.3]]\n",
    "N = 10\n",
    "X1 = np.random.multivariate_normal(means[0],cov,N)\n",
    "X2 = np.random.multivariate_normal(means[1],cov,N)\n",
    "X = np.concatenate((X1,X2), axis = 0) # all data\n",
    "# y = np.concatenate((np.ones((1,N)),-np.ones((1,N))), axis =1 ) # labels\n",
    "y = np.asarray([1]*N+ [-1]*N).T # labels\n",
    "print('X: ',X)\n",
    "print(y)\n",
    "from sklearn.svm import SVC\n",
    "clf = SVC( kernel ='linear',C =1e5)\n",
    "print(clf)\n",
    "clf.fit(X,y)\n",
    "w = clf.coef_ # trọng số w\n",
    "b = clf.intercept_ # bias (Bị chặn)\n",
    "print('w: ',w.T)\n",
    "print('b: ', b)"
   ]
  },
  {
   "cell_type": "markdown",
   "metadata": {},
   "source": [
    "# Soft Margin SVM\n",
    "Dùng thư viện Sklearn"
   ]
  },
  {
   "cell_type": "code",
   "execution_count": 24,
   "metadata": {},
   "outputs": [
    {
     "name": "stdout",
     "output_type": "stream",
     "text": [
      "X [[2.22096057 2.19579728]\n",
      " [2.70132234 3.43487375]\n",
      " [3.08493823 2.70849736]\n",
      " [2.02701417 1.47010441]\n",
      " [2.73223639 2.32571583]\n",
      " [1.21171968 2.23682627]\n",
      " [2.22920603 1.72925457]\n",
      " [1.8637762  1.59716548]\n",
      " [1.74682699 2.27230351]\n",
      " [2.37191737 2.37595358]\n",
      " [4.47403369 1.4040742 ]\n",
      " [4.09281249 0.65061706]\n",
      " [4.22222334 1.11659863]\n",
      " [4.58438569 1.05326933]\n",
      " [4.74493118 1.67628604]\n",
      " [3.6355797  1.63347726]\n",
      " [5.19217738 2.2425902 ]\n",
      " [3.51075436 1.11880111]\n",
      " [3.93784332 0.56029947]\n",
      " [2.7        2.        ]]\n",
      "y [0 0 0 0 0 0 0 0 0 0 1 1 1 1 1 1 1 1 1 1]\n"
     ]
    },
    {
     "data": {
      "image/png": "[encoded data removed]",
      "text/plain": [
       "<Figure size 432x288 with 1 Axes>"
      ]
     },
     "metadata": {
      "needs_background": "light"
     },
     "output_type": "display_data"
    },
    {
     "name": "stdout",
     "output_type": "stream",
     "text": [
      "SVC(C=100, cache_size=200, class_weight=None, coef0=0.0,\n",
      "  decision_function_shape='ovr', degree=3, gamma='auto_deprecated',\n",
      "  kernel='linear', max_iter=-1, probability=False, random_state=None,\n",
      "  shrinking=True, tol=0.001, verbose=False)\n",
      "w:  [[ 9.07560196 -7.75384535]]\n",
      "b:  -7.996751353339568\n"
     ]
    }
   ],
   "source": [
    "import numpy as np\n",
    "import matplotlib.pyplot as plt\n",
    "np.random.seed(2)\n",
    "means =[[2,2],[4,1]]\n",
    "cov = [[0.3,0.2],[0.2,0.3]]\n",
    "N =10\n",
    "X1 = np.random.multivariate_normal(means[0],cov,N)\n",
    "X2 = np.random.multivariate_normal(means[1],cov,N)\n",
    "X2[-1,:] =[2.7,2]\n",
    "X = np.concatenate((X1,X2), axis =0)\n",
    "y = np.asarray([0]*N+ [1]*N).T\n",
    "print('X',X)\n",
    "print('y',y)\n",
    "plt.plot(X1[:,0],X1[:,1],'ro', markersize =7)\n",
    "plt.plot(X2[:,0],X2[:,1],'bs', markersize =7)\n",
    "plt.show()\n",
    "# import library sklearn\n",
    "from sklearn.svm import SVC\n",
    "C =100\n",
    "clf = SVC(kernel ='linear', C =100)\n",
    "print(clf)\n",
    "clf.fit(X,y)\n",
    "w = clf.coef_\n",
    "b = clf.intercept_\n",
    "print('w: ',w)\n",
    "print('b: ',b[0])"
   ]
  },
  {
   "cell_type": "markdown",
   "metadata": {},
   "source": [
    " Tìm nghiệm bằng cách giải bài toán đối ngẫu"
   ]
  },
  {
   "cell_type": "code",
   "execution_count": null,
   "metadata": {},
   "outputs": [],
   "source": [
    "from cvxopt import matrix, solvers # not import cvxopt\n",
    "# build K\n",
    "V = np.concatenate((X0.T, -X1.T), axis = 1)\n",
    "K = matrix(V.T.dot(V))\n",
    "\n",
    "p = matrix(-np.ones((2*N, 1)))\n",
    "# build A, b, G, h \n",
    "G = matrix(np.vstack((-np.eye(2*N), np.eye(2*N))))\n",
    "\n",
    "h = matrix(np.vstack((np.zeros((2*N, 1)), C*np.ones((2*N, 1)))))\n",
    "A = matrix(y.reshape((-1, 2*N))) \n",
    "b = matrix(np.zeros((1, 1))) \n",
    "solvers.options['show_progress'] = False\n",
    "sol = solvers.qp(K, p, G, h, A, b)\n",
    "\n",
    "l = np.array(sol['x'])\n",
    "print('lambda = \\n', l.T)\n",
    "\n",
    "S = np.where(l > 1e-5)[0] # support set \n",
    "S2 = np.where(l < .999*C)[0] \n",
    "\n",
    "M = [val for val in S if val in S2] # intersection of two lists\n",
    "\n",
    "XT = X.T # we need each column to be one data point in this alg\n",
    "VS = V[:, S]\n",
    "lS = l[S]\n",
    "yM = y[M]\n",
    "XM = XT[:, M]\n",
    "\n",
    "w_dual = VS.dot(lS).reshape(-1, 1)\n",
    "b_dual = np.mean(yM.T - w_dual.T.dot(XM))\n",
    "print(w_dual.T, b_dual) "
   ]
  },
  {
   "cell_type": "markdown",
   "metadata": {},
   "source": [
    "Tìm nghiệm bằng giải bài toán không ràng buộc"
   ]
  },
  {
   "cell_type": "code",
   "execution_count": 29,
   "metadata": {},
   "outputs": [
    {
     "name": "stdout",
     "output_type": "stream",
     "text": [
      "[[2.22096057 2.19579728]\n",
      " [2.70132234 3.43487375]\n",
      " [3.08493823 2.70849736]\n",
      " [2.02701417 1.47010441]\n",
      " [2.73223639 2.32571583]\n",
      " [1.21171968 2.23682627]\n",
      " [2.22920603 1.72925457]\n",
      " [1.8637762  1.59716548]\n",
      " [1.74682699 2.27230351]\n",
      " [2.37191737 2.37595358]]\n",
      "[[2.22096057 2.70132234 3.08493823 2.02701417 2.73223639 1.21171968\n",
      "  2.22920603 1.8637762  1.74682699 2.37191737]\n",
      " [2.19579728 3.43487375 2.70849736 1.47010441 2.32571583 2.23682627\n",
      "  1.72925457 1.59716548 2.27230351 2.37595358]\n",
      " [1.         1.         1.         1.         1.         1.\n",
      "  1.         1.         1.         1.        ]]\n",
      "[[ 2.22096057  2.70132234  3.08493823  2.02701417  2.73223639  1.21171968\n",
      "   2.22920603  1.8637762   1.74682699  2.37191737 -4.47403369 -4.09281249\n",
      "  -4.22222334 -4.58438569 -4.74493118 -3.6355797  -5.19217738 -3.51075436\n",
      "  -3.93784332 -2.7       ]\n",
      " [ 2.19579728  3.43487375  2.70849736  1.47010441  2.32571583  2.23682627\n",
      "   1.72925457  1.59716548  2.27230351  2.37595358 -1.4040742  -0.65061706\n",
      "  -1.11659863 -1.05326933 -1.67628604 -1.63347726 -2.2425902  -1.11880111\n",
      "  -0.56029947 -2.        ]\n",
      " [ 1.          1.          1.          1.          1.          1.\n",
      "   1.          1.          1.          1.         -1.         -1.\n",
      "  -1.         -1.         -1.         -1.         -1.         -1.\n",
      "  -1.         -1.        ]]\n",
      "Gradient different: 0.000000\n",
      "iter 1 cost: 8.111993\n",
      "iter 10001 cost: 1.618961\n",
      "iter 20001 cost: 1.480645\n",
      "iter 30001 cost: 1.358530\n",
      "iter 40001 cost: 1.254496\n",
      "iter 50001 cost: 1.162517\n",
      "iter 60001 cost: 1.087435\n",
      "iter 70001 cost: 1.020889\n",
      "iter 80001 cost: 0.963997\n",
      "iter 90001 cost: 0.913938\n",
      "[[-7.17969073  6.13766073]] [6.52275853]\n"
     ]
    }
   ],
   "source": [
    "print(X1)\n",
    "X0_bar = np.vstack((X1.T, np.ones((1,N)))) # extend data\n",
    "print(X1_bar)\n",
    "X1_bar = np.vstack((X2.T, np.ones((1,N)))) # extend data\n",
    "\n",
    "Z = np.hstack((X0_bar, -X1_bar))\n",
    "print(Z)\n",
    "lam = 1/C\n",
    "\n",
    "def cost(w):\n",
    "    u = w.T.dot(Z) # as in (23)\n",
    "    return (np.sum(np.maximum(0, 1 - u)) + \\\n",
    "        .5*lam*np.sum(w*w)) - .5*lam*w[-1]*w[-1] # no bias \n",
    "\n",
    "def grad(w):\n",
    "    u = w.T.dot(Z) # as in (23)\n",
    "    H = np.where(u < 1)[1]\n",
    "    ZS = Z[:, H]\n",
    "    g = (-np.sum(ZS, axis = 1, keepdims = True) + lam*w)\n",
    "    g[-1] -= lam*w[-1] # no weight decay on bias\n",
    "    return g\n",
    "\n",
    "\n",
    "def num_grad(w):\n",
    "    eps = 1e-6\n",
    "    g = np.zeros_like(w)\n",
    "    for i in range(len(w)):\n",
    "        w_p = w.copy()\n",
    "        w_n = w.copy()\n",
    "        w_p[i] += eps \n",
    "        w_n[i] -= eps \n",
    "        g[i] = (cost(w_p) - cost(w_n))/(2*eps)\n",
    "    return g \n",
    "\n",
    "w0 = np.random.randn(X0_bar.shape[0], 1) \n",
    "g1 = grad(w0)\n",
    "g2 = num_grad(w0)\n",
    "diff = np.linalg.norm(g1 - g2)\n",
    "print('Gradient different: %f' %diff)\n",
    "\n",
    "def grad_descent(w0, eta):\n",
    "    w = w0\n",
    "    it = 0 \n",
    "    while it < 100000:\n",
    "        it = it + 1\n",
    "        g = grad(w)\n",
    "        w -= eta*g\n",
    "        if (it % 10000) == 1:\n",
    "            print('iter %d' %it + ' cost: %f' %cost(w))\n",
    "        if np.linalg.norm(g) < 1e-5:\n",
    "            break \n",
    "    return w \n",
    "w0 = np.random.randn(X0_bar.shape[0], 1) \n",
    "w = grad_descent(w0, 0.001)\n",
    "w_hinge = w[:-1].reshape(-1, 1)\n",
    "b_hinge = w[-1]\n",
    "print(w_hinge.T, b_hinge)"
   ]
  },
  {
   "cell_type": "markdown",
   "metadata": {},
   "source": [
    "# Kernel SVM "
   ]
  },
  {
   "cell_type": "code",
   "execution_count": 34,
   "metadata": {},
   "outputs": [
    {
     "name": "stdout",
     "output_type": "stream",
     "text": [
      "[[0 0]\n",
      " [1 1]\n",
      " [1 0]\n",
      " [0 1]]\n"
     ]
    },
    {
     "data": {
      "image/png": "[encoded data removed]",
      "text/plain": [
       "<Figure size 432x288 with 1 Axes>"
      ]
     },
     "metadata": {},
     "output_type": "display_data"
    },
    {
     "data": {
      "image/png": "[encoded data removed]",
      "text/plain": [
       "<Figure size 432x288 with 1 Axes>"
      ]
     },
     "metadata": {},
     "output_type": "display_data"
    },
    {
     "data": {
      "image/png": "[encoded data removed]",
      "text/plain": [
       "<Figure size 432x288 with 1 Axes>"
      ]
     },
     "metadata": {},
     "output_type": "display_data"
    }
   ],
   "source": [
    "import math\n",
    "import matplotlib.pyplot as plt\n",
    "import numpy as np\n",
    "from sklearn.svm import SVC\n",
    "# XOR dataset and targets\n",
    "X = np.c_[(0,0), (1,1),(1,0),(0,1)].T\n",
    "print(X)\n",
    "Y = [0]*2 + [1]*2\n",
    "# figure number\n",
    "fignum = 1\n",
    "# fit the model\n",
    "for kernel in ('sigmoid','poly','rbf'):\n",
    "    clf = SVC(kernel =kernel , gamma =4, coef0 =0)\n",
    "    clf.fit(X,Y)\n",
    "    # plot the line, the points, and the nearest vectors to the plane\n",
    "    fig, ax = plt.subplots()\n",
    "    plt.figure(fignum, figsize=(4, 3))\n",
    "    plt.clf()\n",
    "\n",
    "    plt.scatter(clf.support_vectors_[:, 0], clf.support_vectors_[:, 1], s=80,facecolors='None')\n",
    "    plt.plot(X[:2, 0], X[:2, 1], 'ro', markersize = 8)\n",
    "    plt.plot(X[2:, 0], X[2:, 1], 'bs', markersize = 8)\n",
    "\n",
    "    plt.axis('tight')\n",
    "    x_min, x_max = -2, 3\n",
    "    y_min, y_max = -2, 3\n",
    "        \n",
    "    XX, YY = np.mgrid[x_min:x_max:200j, y_min:y_max:200j]\n",
    "    Z = clf.decision_function(np.c_[XX.ravel(), YY.ravel()])\n",
    "\n",
    "    # Put the result into a color plot\n",
    "    Z = Z.reshape(XX.shape)\n",
    "    plt.figure(fignum, figsize=(4, 3))\n",
    "    CS = plt.contourf(XX, YY, np.sign(Z), 200, cmap='jet', alpha = .2)\n",
    "    plt.contour(XX, YY, Z, colors=['k', 'k', 'k'], linestyles=['--', '-', '--'],levels=[-.5, 0, .5])\n",
    "    plt.title(kernel, fontsize = 15)\n",
    "    plt.xlim(x_min, x_max)\n",
    "    plt.ylim(y_min, y_max)\n",
    "\n",
    "    plt.xticks(())\n",
    "    plt.yticks(())\n",
    "    fignum = fignum + 1\n",
    "plt.show()"
   ]
  },
  {
   "cell_type": "markdown",
   "metadata": {},
   "source": [
    "# Bài toán phân biệt giới tính"
   ]
  },
  {
   "cell_type": "code",
   "execution_count": 64,
   "metadata": {},
   "outputs": [
    {
     "name": "stdout",
     "output_type": "stream",
     "text": [
      "{'__header__': b'MATLAB 5.0 MAT-file, Platform: PCWIN64, Created on: Tue Mar 29 11:17:59 2016', '__version__': '1.0', '__globals__': [], 'label_train': array([[1, 1, 1, 1, 1, 1, 1, 1, 1, 1, 1, 1, 1, 1, 1, 1, 1, 1, 1, 1, 1, 1,\n",
      "        1, 1, 1, 1, 1, 1, 1, 1, 1, 1, 1, 1, 1, 1, 1, 1, 1, 1, 1, 1, 1, 1,\n",
      "        1, 1, 1, 1, 1, 1, 1, 1, 1, 1, 1, 1, 1, 1, 1, 1, 1, 1, 1, 1, 1, 1,\n",
      "        1, 1, 1, 1, 1, 1, 1, 1, 1, 1, 1, 1, 1, 1, 1, 1, 1, 1, 1, 1, 1, 1,\n",
      "        1, 1, 1, 1, 1, 1, 1, 1, 1, 1, 1, 1, 1, 1, 1, 1, 1, 1, 1, 1, 1, 1,\n",
      "        1, 1, 1, 1, 1, 1, 1, 1, 1, 1, 1, 1, 1, 1, 1, 1, 1, 1, 1, 1, 1, 1,\n",
      "        1, 1, 1, 1, 1, 1, 1, 1, 1, 1, 1, 1, 1, 1, 1, 1, 1, 1, 1, 1, 1, 1,\n",
      "        1, 1, 1, 1, 1, 1, 1, 1, 1, 1, 1, 1, 1, 1, 1, 1, 1, 1, 1, 1, 1, 1,\n",
      "        1, 1, 1, 1, 1, 1, 1, 1, 1, 1, 1, 1, 1, 1, 1, 1, 1, 1, 1, 1, 1, 1,\n",
      "        1, 1, 1, 1, 1, 1, 1, 1, 1, 1, 1, 1, 1, 1, 1, 1, 1, 1, 1, 1, 1, 1,\n",
      "        1, 1, 1, 1, 1, 1, 1, 1, 1, 1, 1, 1, 1, 1, 1, 1, 1, 1, 1, 1, 1, 1,\n",
      "        1, 1, 1, 1, 1, 1, 1, 1, 1, 1, 1, 1, 1, 1, 1, 1, 1, 1, 1, 1, 1, 1,\n",
      "        1, 1, 1, 1, 1, 1, 1, 1, 1, 1, 1, 1, 1, 1, 1, 1, 1, 1, 1, 1, 1, 1,\n",
      "        1, 1, 1, 1, 1, 1, 1, 1, 1, 1, 1, 1, 1, 1, 1, 1, 1, 1, 1, 1, 1, 1,\n",
      "        1, 1, 1, 1, 1, 1, 1, 1, 1, 1, 1, 1, 1, 1, 1, 1, 1, 1, 1, 1, 1, 1,\n",
      "        1, 1, 1, 1, 1, 1, 1, 1, 1, 1, 1, 1, 1, 1, 1, 1, 1, 1, 1, 1, 2, 2,\n",
      "        2, 2, 2, 2, 2, 2, 2, 2, 2, 2, 2, 2, 2, 2, 2, 2, 2, 2, 2, 2, 2, 2,\n",
      "        2, 2, 2, 2, 2, 2, 2, 2, 2, 2, 2, 2, 2, 2, 2, 2, 2, 2, 2, 2, 2, 2,\n",
      "        2, 2, 2, 2, 2, 2, 2, 2, 2, 2, 2, 2, 2, 2, 2, 2, 2, 2, 2, 2, 2, 2,\n",
      "        2, 2, 2, 2, 2, 2, 2, 2, 2, 2, 2, 2, 2, 2, 2, 2, 2, 2, 2, 2, 2, 2,\n",
      "        2, 2, 2, 2, 2, 2, 2, 2, 2, 2, 2, 2, 2, 2, 2, 2, 2, 2, 2, 2, 2, 2,\n",
      "        2, 2, 2, 2, 2, 2, 2, 2, 2, 2, 2, 2, 2, 2, 2, 2, 2, 2, 2, 2, 2, 2,\n",
      "        2, 2, 2, 2, 2, 2, 2, 2, 2, 2, 2, 2, 2, 2, 2, 2, 2, 2, 2, 2, 2, 2,\n",
      "        2, 2, 2, 2, 2, 2, 2, 2, 2, 2, 2, 2, 2, 2, 2, 2, 2, 2, 2, 2, 2, 2,\n",
      "        2, 2, 2, 2, 2, 2, 2, 2, 2, 2, 2, 2, 2, 2, 2, 2, 2, 2, 2, 2, 2, 2,\n",
      "        2, 2, 2, 2, 2, 2, 2, 2, 2, 2, 2, 2, 2, 2, 2, 2, 2, 2, 2, 2, 2, 2,\n",
      "        2, 2, 2, 2, 2, 2, 2, 2, 2, 2, 2, 2, 2, 2, 2, 2, 2, 2, 2, 2, 2, 2,\n",
      "        2, 2, 2, 2, 2, 2, 2, 2, 2, 2, 2, 2, 2, 2, 2, 2, 2, 2, 2, 2, 2, 2,\n",
      "        2, 2, 2, 2, 2, 2, 2, 2, 2, 2, 2, 2, 2, 2, 2, 2, 2, 2, 2, 2, 2, 2,\n",
      "        2, 2, 2, 2, 2, 2, 2, 2, 2, 2, 2, 2, 2, 2, 2, 2, 2, 2, 2, 2, 2, 2,\n",
      "        2, 2, 2, 2, 2, 2, 2, 2, 2, 2, 2, 2, 2, 2, 2, 2, 2, 2, 2, 2, 2, 2,\n",
      "        2, 2, 2, 2, 2, 2, 2, 2, 2, 2, 2, 2, 2, 2, 2, 2, 2, 2]],\n",
      "      dtype=uint8), 'label_test': array([[1, 1, 1, 1, 1, 1, 1, 1, 1, 1, 1, 1, 1, 1, 1, 1, 1, 1, 1, 1, 1, 1,\n",
      "        1, 1, 1, 1, 1, 1, 1, 1, 1, 1, 1, 1, 1, 1, 1, 1, 1, 1, 1, 1, 1, 1,\n",
      "        1, 1, 1, 1, 1, 1, 1, 1, 1, 1, 1, 1, 1, 1, 1, 1, 1, 1, 1, 1, 1, 1,\n",
      "        1, 1, 1, 1, 1, 1, 1, 1, 1, 1, 1, 1, 1, 1, 1, 1, 1, 1, 1, 1, 1, 1,\n",
      "        1, 1, 1, 1, 1, 1, 1, 1, 1, 1, 1, 1, 1, 1, 1, 1, 1, 1, 1, 1, 1, 1,\n",
      "        1, 1, 1, 1, 1, 1, 1, 1, 1, 1, 1, 1, 1, 1, 1, 1, 1, 1, 1, 1, 1, 1,\n",
      "        1, 1, 1, 1, 1, 1, 1, 1, 1, 1, 1, 1, 1, 1, 1, 1, 1, 1, 1, 1, 1, 1,\n",
      "        1, 1, 1, 1, 1, 1, 1, 1, 1, 1, 1, 1, 1, 1, 1, 1, 1, 1, 1, 1, 1, 1,\n",
      "        1, 1, 1, 1, 1, 1, 1, 1, 1, 1, 1, 1, 1, 1, 1, 1, 1, 1, 1, 1, 1, 1,\n",
      "        1, 1, 1, 1, 1, 1, 1, 1, 1, 1, 1, 1, 1, 1, 1, 1, 1, 1, 1, 1, 1, 1,\n",
      "        1, 1, 1, 1, 1, 1, 1, 1, 1, 1, 1, 1, 1, 1, 1, 1, 1, 1, 1, 1, 1, 1,\n",
      "        1, 1, 1, 1, 1, 1, 1, 1, 1, 1, 1, 1, 1, 1, 1, 1, 1, 1, 1, 1, 1, 1,\n",
      "        1, 1, 1, 1, 1, 1, 1, 1, 1, 1, 1, 1, 1, 1, 1, 1, 1, 1, 1, 1, 1, 1,\n",
      "        1, 1, 1, 1, 1, 1, 1, 1, 1, 1, 1, 1, 1, 1, 1, 1, 1, 1, 1, 1, 1, 1,\n",
      "        1, 1, 1, 1, 1, 1, 1, 1, 1, 1, 1, 1, 1, 1, 1, 1, 1, 1, 1, 1, 1, 1,\n",
      "        1, 1, 1, 1, 1, 1, 1, 1, 1, 1, 1, 1, 1, 1, 1, 1, 1, 1, 1, 1, 2, 2,\n",
      "        2, 2, 2, 2, 2, 2, 2, 2, 2, 2, 2, 2, 2, 2, 2, 2, 2, 2, 2, 2, 2, 2,\n",
      "        2, 2, 2, 2, 2, 2, 2, 2, 2, 2, 2, 2, 2, 2, 2, 2, 2, 2, 2, 2, 2, 2,\n",
      "        2, 2, 2, 2, 2, 2, 2, 2, 2, 2, 2, 2, 2, 2, 2, 2, 2, 2, 2, 2, 2, 2,\n",
      "        2, 2, 2, 2, 2, 2, 2, 2, 2, 2, 2, 2, 2, 2, 2, 2, 2, 2, 2, 2, 2, 2,\n",
      "        2, 2, 2, 2, 2, 2, 2, 2, 2, 2, 2, 2, 2, 2, 2, 2, 2, 2, 2, 2, 2, 2,\n",
      "        2, 2, 2, 2, 2, 2, 2, 2, 2, 2, 2, 2, 2, 2, 2, 2, 2, 2, 2, 2, 2, 2,\n",
      "        2, 2, 2, 2, 2, 2, 2, 2, 2, 2, 2, 2, 2, 2, 2, 2, 2, 2, 2, 2, 2, 2,\n",
      "        2, 2, 2, 2, 2, 2, 2, 2, 2, 2, 2, 2, 2, 2, 2, 2, 2, 2, 2, 2, 2, 2,\n",
      "        2, 2, 2, 2, 2, 2, 2, 2, 2, 2, 2, 2, 2, 2, 2, 2, 2, 2, 2, 2, 2, 2,\n",
      "        2, 2, 2, 2, 2, 2, 2, 2, 2, 2, 2, 2, 2, 2, 2, 2, 2, 2, 2, 2, 2, 2,\n",
      "        2, 2, 2, 2, 2, 2, 2, 2, 2, 2, 2, 2, 2, 2, 2, 2, 2, 2, 2, 2, 2, 2,\n",
      "        2, 2, 2, 2, 2, 2, 2, 2, 2, 2, 2, 2, 2, 2, 2, 2, 2, 2, 2, 2, 2, 2,\n",
      "        2, 2, 2, 2, 2, 2, 2, 2, 2, 2, 2, 2, 2, 2, 2, 2, 2, 2, 2, 2, 2, 2,\n",
      "        2, 2, 2, 2, 2, 2, 2, 2, 2, 2, 2, 2, 2, 2, 2, 2, 2, 2, 2, 2, 2, 2,\n",
      "        2, 2, 2, 2, 2, 2, 2, 2, 2, 2, 2, 2, 2, 2, 2, 2, 2, 2, 2, 2, 2, 2,\n",
      "        2, 2, 2, 2, 2, 2, 2, 2, 2, 2, 2, 2, 2, 2, 2, 2, 2, 2]],\n",
      "      dtype=uint8), 'Y_train': array([[-8.94605402e-01, -8.90976942e-01, -8.89296848e-01, ...,\n",
      "        -8.60720950e-01, -9.25039100e-01, -9.28467299e-01],\n",
      "       [-2.44797024e-01, -2.43598005e-01, -2.48431121e-01, ...,\n",
      "         8.13842888e-02,  1.38404578e-01,  8.25766841e-02],\n",
      "       [-9.40241291e-02, -1.04844078e-01, -9.58813891e-02, ...,\n",
      "        -3.49000507e-01,  2.92416578e-02, -1.12375434e-01],\n",
      "       ...,\n",
      "       [ 2.45871524e-04, -2.82865857e-03,  2.35576495e-03, ...,\n",
      "         1.48699437e-03,  1.26910281e-04, -1.25664457e-03],\n",
      "       [-1.54193159e-03,  2.02429685e-03,  2.49464752e-03, ...,\n",
      "        -2.89866049e-03,  1.92967146e-03, -1.97204656e-03],\n",
      "       [-3.01650380e-03,  4.24784555e-03,  1.74961185e-03, ...,\n",
      "         8.04479961e-03, -6.28195580e-03,  3.20138268e-03]]), 'Y_test': array([[-8.49520513e-01, -8.53465987e-01, -8.45380485e-01, ...,\n",
      "        -8.60819310e-01, -9.22147430e-01, -9.36921366e-01],\n",
      "       [-1.32195560e-01, -1.24088459e-01, -1.66186272e-01, ...,\n",
      "         4.67269043e-02,  1.52427996e-01,  1.04007176e-01],\n",
      "       [-1.30247642e-01, -1.30045379e-01, -1.28451902e-01, ...,\n",
      "        -3.59316296e-01,  7.11397588e-02, -1.03570757e-01],\n",
      "       ...,\n",
      "       [ 3.08648093e-04,  3.53607933e-03,  4.09068022e-04, ...,\n",
      "        -9.24038047e-04,  1.21408339e-03,  2.13098101e-03],\n",
      "       [-3.54713829e-03,  1.06610101e-02, -3.67922985e-03, ...,\n",
      "        -3.21429255e-03,  1.14665183e-03, -2.25609939e-03],\n",
      "       [-1.58152191e-03, -1.04827402e-03, -1.76769182e-03, ...,\n",
      "        -7.94612562e-04,  1.21628413e-03,  7.37822374e-04]])}\n",
      "Xtrain :  [[-8.94605402e-01 -2.44797024e-01 -9.40241291e-02 ...  2.45871524e-04\n",
      "  -1.54193159e-03 -3.01650380e-03]\n",
      " [-8.90976942e-01 -2.43598005e-01 -1.04844078e-01 ... -2.82865857e-03\n",
      "   2.02429685e-03  4.24784555e-03]\n",
      " [-8.89296848e-01 -2.48431121e-01 -9.58813891e-02 ...  2.35576495e-03\n",
      "   2.49464752e-03  1.74961185e-03]\n",
      " ...\n",
      " [-8.60720950e-01  8.13842888e-02 -3.49000507e-01 ...  1.48699437e-03\n",
      "  -2.89866049e-03  8.04479961e-03]\n",
      " [-9.25039100e-01  1.38404578e-01  2.92416578e-02 ...  1.26910281e-04\n",
      "   1.92967146e-03 -6.28195580e-03]\n",
      " [-9.28467299e-01  8.25766841e-02 -1.12375434e-01 ... -1.25664457e-03\n",
      "  -1.97204656e-03  3.20138268e-03]]\n",
      "Xtest:  (700, 300)\n",
      "(700,)\n",
      "SVC(C=100, cache_size=200, class_weight=None, coef0=0.0,\n",
      "  decision_function_shape='ovr', degree=3, gamma=1, kernel='poly',\n",
      "  max_iter=-1, probability=False, random_state=None, shrinking=True,\n",
      "  tol=0.001, verbose=False)\n",
      "accuracy_score:  92.85714285714286\n"
     ]
    }
   ],
   "source": [
    "from sklearn.svm import SVC\n",
    "import scipy.io as sio\n",
    "from sklearn.metrics import accuracy_score\n",
    "A = sio.loadmat('myARgender.mat') # dữ liệu ảnh đã qua xử lý\n",
    "print(A)\n",
    "X_train = A['Y_train'].T\n",
    "X_test = A['Y_test'].T\n",
    "print('Xtrain : ', X_train)\n",
    "print('Xtest: ', X_test.shape)\n",
    "N = 700\n",
    "y_train = A['label_train'].reshape(N)\n",
    "print(y_train.shape)\n",
    "y_test  = A['label_test'].reshape(N)\n",
    "\n",
    "clf = SVC(kernel ='poly', degree =3, gamma =1, C =100)\n",
    "print(clf)\n",
    "clf.fit(X_train, y_train)\n",
    "y_pred = clf.predict(X_test)\n",
    "print('accuracy_score: ', 100*accuracy_score(y_pred, y_test))"
   ]
  }
 ],
 "metadata": {
  "kernelspec": {
   "display_name": "Python 3",
   "language": "python",
   "name": "python3"
  },
  "language_info": {
   "codemirror_mode": {
    "name": "ipython",
    "version": 3
   },
   "file_extension": ".py",
   "mimetype": "text/x-python",
   "name": "python",
   "nbconvert_exporter": "python",
   "pygments_lexer": "ipython3",
   "version": "3.7.1"
  }
 },
 "nbformat": 4,
 "nbformat_minor": 2
}
