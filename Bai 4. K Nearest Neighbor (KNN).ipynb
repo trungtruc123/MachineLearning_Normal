{
 "cells": [
  {
   "cell_type": "code",
   "execution_count": 21,
   "metadata": {},
   "outputs": [
    {
     "name": "stdout",
     "output_type": "stream",
     "text": [
      "Number point data : 150\n",
      "Number of classes : 3\n",
      "Sample of class 0 : [[5.1 3.5 1.4 0.2]\n",
      " [4.9 3.  1.4 0.2]\n",
      " [4.7 3.2 1.3 0.2]\n",
      " [4.6 3.1 1.5 0.2]\n",
      " [5.  3.6 1.4 0.2]]\n",
      "Sample of class 1 : [[7.  3.2 4.7 1.4]\n",
      " [6.4 3.2 4.5 1.5]\n",
      " [6.9 3.1 4.9 1.5]\n",
      " [5.5 2.3 4.  1.3]\n",
      " [6.5 2.8 4.6 1.5]]\n",
      "Sample of class 2 : [[5.1 3.5 1.4 0.2]\n",
      " [4.9 3.  1.4 0.2]\n",
      " [4.7 3.2 1.3 0.2]\n",
      " [4.6 3.1 1.5 0.2]\n",
      " [5.  3.6 1.4 0.2]]\n"
     ]
    }
   ],
   "source": [
    "import numpy as np\n",
    "import matplotlib.pyplot as plt\n",
    "from sklearn import datasets, neighbors\n",
    "\n",
    "iris = datasets.load_iris()\n",
    "# print(iris)\n",
    "iris_x = iris.data\n",
    "iris_y = iris.target\n",
    "print (\"Number point data :\",len(iris_y))\n",
    "print('Number of classes :',len(np.unique(iris_y)))\n",
    "\n",
    "X0 = iris_x[iris_y == 0,:]\n",
    "print(\"Sample of class 0 :\", X0[:5,:])\n",
    "X1 = iris_x[iris_y == 1,:]\n",
    "print(\"Sample of class 1 :\", X1[:5,:])\n",
    "X2 = iris_x[iris_y == 2,:]\n",
    "print(\"Sample of class 2 :\", X0[:5,:])"
   ]
  },
  {
   "cell_type": "code",
   "execution_count": 88,
   "metadata": {},
   "outputs": [
    {
     "name": "stdout",
     "output_type": "stream",
     "text": [
      "len of train : 120\n",
      "len of test : 30\n",
      "KNeighborsClassifier(algorithm='auto', leaf_size=30, metric='minkowski',\n",
      "           metric_params=None, n_jobs=None, n_neighbors=10, p=2,\n",
      "           weights='distance')\n",
      "Ground truth:  [1 1 2 1 2 1 1 2 0 2]\n",
      "Predict:  [1 1 2 1 2 1 1 2 0 2]\n",
      "Accuracy score:  100.0\n"
     ]
    }
   ],
   "source": [
    "# train set, test set\n",
    "from sklearn.model_selection import train_test_split\n",
    "x_train, x_test, y_train, y_test = train_test_split(iris_x, iris_y, test_size =0.2)\n",
    "print('len of train :', len(x_train))\n",
    "print('len of test :', len(x_test))\n",
    "\n",
    "clf = neighbors.KNeighborsClassifier(n_neighbors =10 , p =2, weights ='distance') #p =2 : chuan norm 2, weights : trong so (khoang cach can gan => trong so can lon)\n",
    "print(clf)\n",
    "clf.fit(x_train, y_train)\n",
    "y_pred = clf.predict(x_test)\n",
    "print(\"Ground truth: \", y_test[20:40])\n",
    "print(\"Predict: \", y_pred[20:40])\n",
    "from sklearn.metrics import accuracy_score\n",
    "print(\"Accuracy score: \",100* accuracy_score(y_test, y_pred))"
   ]
  },
  {
   "cell_type": "code",
   "execution_count": 166,
   "metadata": {},
   "outputs": [
    {
     "name": "stdout",
     "output_type": "stream",
     "text": [
      "len of train : 120\n",
      "len of test : 30\n",
      "KNeighborsClassifier(algorithm='auto', leaf_size=30, metric='minkowski',\n",
      "           metric_params=None, n_jobs=None, n_neighbors=10, p=2,\n",
      "           weights=<function myweight at 0x000001C8F20FCE18>)\n",
      "Ground truth:  [1 2 0 0 0 0 2 1 2 1]\n",
      "Predict:  [1 2 0 0 0 0 2 1 2 1]\n",
      "Accuracy score:  100.0\n"
     ]
    }
   ],
   "source": [
    "# ngoài 2 trọng số weight: uniform, distance => tự tạo ra trọng số bằng hàm\n",
    "def myweight(distance):\n",
    "    sigma =0.5 # we can change this number\n",
    "    return np.exp(-distance**2/sigma)\n",
    "# train set, test set\n",
    "from sklearn.model_selection import train_test_split\n",
    "x_train, x_test, y_train, y_test = train_test_split(iris_x, iris_y, test_size =0.2)\n",
    "print('len of train :', len(x_train))\n",
    "print('len of test :', len(x_test))\n",
    "\n",
    "clf = neighbors.KNeighborsClassifier(n_neighbors =10 , p =2, weights =myweight) #p =2 : chuan norm 2, weights : trong so (khoang cach can gan => trong so can lon)\n",
    "print(clf)\n",
    "clf.fit(x_train, y_train)\n",
    "y_pred = clf.predict(x_test)\n",
    "print(\"Ground truth: \", y_test[20:40])\n",
    "print(\"Predict: \", y_pred[20:40])\n",
    "from sklearn.metrics import accuracy_score\n",
    "print(\"Accuracy score: \",100* accuracy_score(y_test, y_pred))"
   ]
  }
 ],
 "metadata": {
  "kernelspec": {
   "display_name": "Python 3",
   "language": "python",
   "name": "python3"
  },
  "language_info": {
   "codemirror_mode": {
    "name": "ipython",
    "version": 3
   },
   "file_extension": ".py",
   "mimetype": "text/x-python",
   "name": "python",
   "nbconvert_exporter": "python",
   "pygments_lexer": "ipython3",
   "version": "3.7.1"
  }
 },
 "nbformat": 4,
 "nbformat_minor": 2
}
