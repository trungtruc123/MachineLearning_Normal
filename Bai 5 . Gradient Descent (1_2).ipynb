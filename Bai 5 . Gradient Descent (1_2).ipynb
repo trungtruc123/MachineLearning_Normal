{
 "cells": [
  {
   "cell_type": "code",
   "execution_count": 7,
   "metadata": {},
   "outputs": [
    {
     "name": "stdout",
     "output_type": "stream",
     "text": [
      "[-5, -4.141831092731613, -3.0434140487394945, -1.9371390635788721, -1.370609623535342, -1.1959138533062952, -1.1398126662660861, -1.1207324901805855, -1.1140974995041208, -1.1117718342401366, -1.1109543623859697, -1.1106667365268623, -1.1105655006818749]\n",
      "[5, 3.8581689072683867, 3.463564567930569, 3.2451582916682646, 3.0934475688734215, 2.9741786797296776, 2.8723524342019475, 2.7798685851337033, 2.691538912182054, 2.6034429924417726, 2.512083663118539, 2.413825273788166, 2.3043909242955314, 2.178284700900974, 2.028031263811057, 1.8431593967550366, 1.6090315913519224, 1.3063382475764564, 0.9143774850440367, 0.42636006838025575, -0.11415049832376245, -0.5880663503407273, -0.8864605464168874, -1.0252476809653677, -1.079641732011138, -1.0995355411928174, -1.1066334337506414, -1.1091439570842945, -1.1100292207856688, -1.1103410483948122, -1.1104508458600801]\n",
      "solution - local minium:  -1.1105655006818749  interation : 11\n",
      "solution - local minium:  -1.1104508458600801  interation : 29\n"
     ]
    }
   ],
   "source": [
    "import numpy as np\n",
    "import math\n",
    "import matplotlib.pyplot as plt\n",
    "# function grad  :tinh dao ham\n",
    "def grad(x):\n",
    "    return 2*x +5*np.cos(x)\n",
    "# f(x)\n",
    "def cost(x):\n",
    "    return x**2 + 5 *np.sin(x)\n",
    "# thuat toan gradient descent ( eta: learning rate, xo = xt)\n",
    "def GD1(eta, x0):\n",
    "    x = [x0]\n",
    "    for it in range(100):\n",
    "        x_new = x[-1] -eta*grad(x[-1])\n",
    "        x.append(x_new)\n",
    "        if(abs(grad(x[-1]))<1e-3):\n",
    "            break\n",
    "    return (x,it)\n",
    "(x1,it1)  = GD1(0.1,-5)\n",
    "(x2, it2)  = GD1(0.1,5)\n",
    "print(x1)\n",
    "print(x2)\n",
    "print('solution - local minium: ',x1[-1],' interation :',it1)\n",
    "print('solution - local minium: ',x2[-1],' interation :',it2)"
   ]
  },
  {
   "cell_type": "code",
   "execution_count": 41,
   "metadata": {},
   "outputs": [
    {
     "name": "stdout",
     "output_type": "stream",
     "text": [
      " weight [[3.98871776 3.00889885]]\n"
     ]
    },
    {
     "data": {
      "image/png": "[encoded data removed]",
      "text/plain": [
       "<Figure size 432x288 with 1 Axes>"
      ]
     },
     "metadata": {
      "needs_background": "light"
     },
     "output_type": "display_data"
    },
    {
     "name": "stdout",
     "output_type": "stream",
     "text": [
      "check gradient: True\n",
      "solution of Gradient: [[4.00350958]\n",
      " [2.98193473]] iteration: 619\n"
     ]
    }
   ],
   "source": [
    "# Gradient cho hàm số nhiều biến\n",
    "# quay lại với Linear Regression\n",
    "import matplotlib.pyplot as plt\n",
    "import math\n",
    "import numpy as np\n",
    "np.random.seed(12)\n",
    "# tạo 1000 điểm dữ liệu gần với đt y =4 +3x\n",
    "X = np.random.rand(1000,1)\n",
    "# print(X)\n",
    "y = 4 +3*X+ 0.2 *np.random.randn(1000,1) #noise added\n",
    "# Building Xbar\n",
    "one = np.ones((X.shape[0],1))\n",
    "# print(one)\n",
    "# Xbar concatenate\n",
    "Xbar = np.concatenate((one, X), axis =1)\n",
    "\n",
    "A = np.dot(Xbar.T, Xbar)\n",
    "b = np.dot(Xbar.T, y)\n",
    "w = np.dot(np.linalg.pinv(A), b)\n",
    "print(' weight', w.T)\n",
    "#display result\n",
    "w0 = w[0][0]\n",
    "w1 = w[1][0]\n",
    "x0 =np.linspace(0,1,2)\n",
    "y0 = w0 + w1 *x0\n",
    "plt.plot(X,y,'b.')\n",
    "plt.plot(x0,y0,'y', linewidth=2)\n",
    "plt.show()\n",
    "\n",
    "# viết đạo hàm và tính hàm mất mát\n",
    "def Grad(w):\n",
    "    N = Xbar.shape[0]\n",
    "    return 1/N*Xbar.T.dot(Xbar.dot(w)- y)\n",
    "def Cost(w):\n",
    "    N = Xbar.shape[0]\n",
    "    return 0.5/N*np.linalg.norm(y - Xbar.dot(w),2)**2\n",
    "# kiểm tra đạo hàm\n",
    "def numerical_grad(w, cost):\n",
    "    eps = 1e-4\n",
    "    g = np.zeros_like(w)\n",
    "    for i in range(len(w)):\n",
    "        w_p = w.copy()\n",
    "        w_n = w.copy()\n",
    "        w_p[i] +=eps\n",
    "        w_n[i] -=eps\n",
    "        g[i] = (cost(w_p)- cost(w_n))/(2*eps)\n",
    "    return g\n",
    "def check_grad(w, grad, cost):\n",
    "    w = np.random.rand(w.shape[0], w.shape[1])\n",
    "    grad1 = Grad(w)\n",
    "    grad2 = numerical_grad(w, cost)\n",
    "    return True if np.linalg.norm(grad1-grad2)< 1e-6 else False\n",
    "print(\"check gradient:\", check_grad(np.random.rand(2,1),Grad,Cost))\n",
    "\n",
    "# viết hàm  gradient descent\n",
    "def MyGD(w_init, grad, eta):\n",
    "    w = [w_init]\n",
    "    for it in range(1000):\n",
    "        w_new = w[-1] -eta*grad(w[-1])\n",
    "        if np.linalg.norm(grad(w_new))/len(w_new) < 1e-3:\n",
    "            break\n",
    "        w.append(w_new)\n",
    "    return (w, it)\n",
    "w_init = np.array([[4],[1]])\n",
    "(w, it ) = MyGD(w_init, Grad, 0.1)\n",
    "print('solution of Gradient:', w[-1],'iteration:' ,it)"
   ]
  }
 ],
 "metadata": {
  "kernelspec": {
   "display_name": "Python 3",
   "language": "python",
   "name": "python3"
  },
  "language_info": {
   "codemirror_mode": {
    "name": "ipython",
    "version": 3
   },
   "file_extension": ".py",
   "mimetype": "text/x-python",
   "name": "python",
   "nbconvert_exporter": "python",
   "pygments_lexer": "ipython3",
   "version": "3.7.4"
  }
 },
 "nbformat": 4,
 "nbformat_minor": 2
}
