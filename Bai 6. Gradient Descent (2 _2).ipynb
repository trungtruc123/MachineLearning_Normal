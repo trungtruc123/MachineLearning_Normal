{
 "cells": [
  {
   "cell_type": "code",
   "execution_count": 41,
   "metadata": {},
   "outputs": [
    {
     "name": "stdout",
     "output_type": "stream",
     "text": [
      "3.8373590561192317 5\n"
     ]
    },
    {
     "data": {
      "image/png": "[encoded data removed]",
      "text/plain": [
       "<Figure size 432x288 with 1 Axes>"
      ]
     },
     "metadata": {
      "needs_background": "light"
     },
     "output_type": "display_data"
    }
   ],
   "source": [
    "import matplotlib.pyplot as plt\n",
    "import math\n",
    "import numpy as np\n",
    "x = np.linspace(-4,6,100)\n",
    "def grad(x):\n",
    "    return 2*x + 10*np.cos(x)\n",
    "def cost(x):\n",
    "    return x**2 + 10*np.sin(x)\n",
    "def GD( eta,x0):\n",
    "    x = [x0]\n",
    "    for it in range(100):\n",
    "        x_new = x[-1] - eta*grad(x[-1])\n",
    "        if(abs(grad(x[-1]))<1e-3):\n",
    "            break\n",
    "        x.append(x_new)\n",
    "    return (x, it)\n",
    "(x1, it1) = GD(0.1, 5)\n",
    "print( x1[-1], it1)\n",
    "plt.plot(x,cost(x))\n",
    "plt.plot(x1[-1],cost(x1[-1]), 'r*')\n",
    "plt.show()"
   ]
  },
  {
   "cell_type": "code",
   "execution_count": 42,
   "metadata": {},
   "outputs": [
    {
     "name": "stdout",
     "output_type": "stream",
     "text": [
      "interation 99 theta: -1.3102051314532384\n"
     ]
    },
    {
     "data": {
      "image/png": "[encoded data removed]",
      "text/plain": [
       "<Figure size 432x288 with 1 Axes>"
      ]
     },
     "metadata": {
      "needs_background": "light"
     },
     "output_type": "display_data"
    }
   ],
   "source": [
    "# Gradient MoMenTum (vận tốc lấy đà)\n",
    "import numpy as np\n",
    "import matplotlib.pyplot as plt\n",
    "import math\n",
    "\n",
    "def has_converged(theta_new, grad):\n",
    "    return  True if np.linalg.norm(grad(theta_new))<1e-3 else False\n",
    "def GD_momentum(theta_init,eta,grad,gamma):\n",
    "    # Suppose we want to store history of theta\n",
    "    theta = [theta_init]\n",
    "    v_old = np.zeros_like(theta_init)\n",
    "    for it in range(100):\n",
    "        v_new = gamma*v_old + eta* grad(theta[-1])\n",
    "        theta_new = theta[-1] - v_new\n",
    "        if( has_converged(theta_new, grad)== True):\n",
    "            break\n",
    "        theta.append(theta_new)\n",
    "        v_old =v_new\n",
    "    return (theta,it)\n",
    "(theta, it) = GD_momentum(5, 0.1,grad,0.9)\n",
    "print('interation', it , 'theta:',theta[-1])\n",
    "plt.plot(x,cost(x))\n",
    "plt.plot(theta[-1],cost(theta[-1]), 'r*')\n",
    "plt.show()"
   ]
  },
  {
   "cell_type": "code",
   "execution_count": 15,
   "metadata": {},
   "outputs": [
    {
     "name": "stdout",
     "output_type": "stream",
     "text": [
      "solution Linear Regression: w =  [[4.00839956]\n",
      " [3.00212675]]\n",
      "Check: True\n",
      "w: [[4.00551509]\n",
      " [3.00427616]] iteration: 31 grad: [[-0.00180847]\n",
      " [-0.0007266 ]]\n"
     ]
    }
   ],
   "source": [
    "# Nesterov accelerated gradient (NAG) (dự đoán hướng đi trong tương lai)\n",
    "import numpy as np\n",
    "import matplotlib.pyplot as plt\n",
    "import math\n",
    "\n",
    "np.random.seed(1)\n",
    "X = np.random.rand(1000,1)\n",
    "y = 4 +3 *X +0.2*np.random.randn(1000,1)\n",
    "\n",
    "#Building Xbar\n",
    "one = np.ones((X.shape[0],1))\n",
    "Xbar = np.concatenate((one, X), axis =1)\n",
    "\n",
    "A = np.dot(Xbar.T, Xbar)\n",
    "b = np.dot(Xbar.T, y)\n",
    "w = np.dot(np.linalg.pinv(A),b)\n",
    "print('solution Linear Regression: w = ',w)\n",
    "\n",
    "def cost (w):\n",
    "    N = Xbar.shape[0]\n",
    "    return 0.5/N*np.linalg.norm(y - Xbar.dot(w),2)**2\n",
    "def grad(w):\n",
    "    N = Xbar.shape[0]\n",
    "    return 1/N*Xbar.T.dot(Xbar.dot(w)-y)\n",
    "def numerical_grad(w, cost):\n",
    "    eps = 1e-4\n",
    "    g =  np.zeros_like(w)\n",
    "    for i in range(len(w)):\n",
    "        w_p = w.copy()\n",
    "        w_n = w.copy()\n",
    "        w_p[i] += eps\n",
    "        w_n[i] -= eps\n",
    "        g[i]   = (cost(w_p)-cost(w_n))/(2*eps)\n",
    "    return g\n",
    "def check_grad(w, grad, cost):\n",
    "    w = np.random.rand(w.shape[0], w.shape[1])\n",
    "    grad1 = grad(w)\n",
    "    grad2 = numerical_grad(w, cost)\n",
    "    return True if np.linalg.norm(grad1-grad2)< 1e-3 else False\n",
    "print(\"Check:\", check_grad(w,grad, cost))\n",
    "\n",
    "def GD_NAG(w_init,eta,  gamma, grad):\n",
    "    w = [w_init]\n",
    "    v = [np.zeros_like(w_init)]\n",
    "    for it in range(100):\n",
    "        v_new = gamma*v[-1] + eta * grad(w[-1] - gamma* v[-1])\n",
    "        w_new = w[-1] - v_new\n",
    "        v.append(v_new)\n",
    "        w.append(w_new)\n",
    "        if np.linalg.norm(grad(w[-1]))/len(w[-1]) < 1e-3:\n",
    "            break\n",
    "    return (w,v,it)\n",
    "w_init = np.array([[2],[1]])\n",
    "(w,v,it) = GD_NAG(w_init,1,0.9,grad)\n",
    "print('w:',w[-1],'iteration:',it,'grad:',grad(w[-1]))"
   ]
  },
  {
   "cell_type": "code",
   "execution_count": 54,
   "metadata": {},
   "outputs": [
    {
     "name": "stdout",
     "output_type": "stream",
     "text": [
      "[[4.03246546]\n",
      " [3.02015613]] 0 399\n"
     ]
    }
   ],
   "source": [
    "# stochastics Gradient Descent (SGD)\n",
    "# ưu điểm : hội tụ nhanh\n",
    "def sgrad( w, i, rd_id):\n",
    "    true_i = rd_id[i]\n",
    "    xi = Xbar[true_i,:]\n",
    "    yi = y[true_i]\n",
    "    a = np.dot(xi,w) - yi\n",
    "    return (xi*a).reshape(2,1)\n",
    "def SGD(w_init, eta, sgrad):\n",
    "    w =[w_init]\n",
    "    w_last_check =w_init\n",
    "    iter_check_w = 10\n",
    "    N = X.shape[0]\n",
    "    count =0\n",
    "    for it in range(10):\n",
    "        #shuffle data ( xáo trộn data)\n",
    "        rd_id = np.random.permutation(N)\n",
    "        for i in range(N):\n",
    "            count +=1\n",
    "            g = sgrad( w[-1],i,rd_id)\n",
    "            w_new = w[-1] - eta * g\n",
    "            w.append(w_new)\n",
    "            if count % iter_check_w ==0:\n",
    "                w_this_check = w_new\n",
    "                if np.linalg.norm(w_this_check- w_last_check)/len(w_init)< 1e-3:\n",
    "                    return (w, it,i)\n",
    "                w_last_check= w_this_check\n",
    "    return (w, it, i)\n",
    "w_init = np.array([[2],[1]])\n",
    "(weight, it, i) = SGD(w_init,0.1,sgrad)\n",
    "print(weight[-1], it, i)"
   ]
  }
 ],
 "metadata": {
  "kernelspec": {
   "display_name": "Python 3",
   "language": "python",
   "name": "python3"
  },
  "language_info": {
   "codemirror_mode": {
    "name": "ipython",
    "version": 3
   },
   "file_extension": ".py",
   "mimetype": "text/x-python",
   "name": "python",
   "nbconvert_exporter": "python",
   "pygments_lexer": "ipython3",
   "version": "3.7.4"
  }
 },
 "nbformat": 4,
 "nbformat_minor": 2
}
