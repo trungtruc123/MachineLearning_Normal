{
 "cells": [
  {
   "cell_type": "code",
   "execution_count": 79,
   "metadata": {},
   "outputs": [
    {
     "name": "stdout",
     "output_type": "stream",
     "text": [
      "y [0 0 0 0 0 0 0 0 0 0 0 0 0 0 0 0 0 0 0 0 0 0 0 0 0 0 0 0 0 0 0 0 0 0 0 0 0\n",
      " 0 0 0 0 0 0 0 0 0 0 0 0 0 0 0 0 0 0 0 0 0 0 0 0 0 0 0 0 0 0 0 0 0 0 0 0 0\n",
      " 0 0 0 0 0 0 0 0 0 0 0 0 0 0 0 0 0 0 0 0 0 0 0 0 0 0 1 1 1 1 1 1 1 1 1 1 1\n",
      " 1 1 1 1 1 1 1 1 1 1 1 1 1 1 1 1 1 1 1 1 1 1 1 1 1 1 1 1 1 1 1 1 1 1 1 1 1\n",
      " 1 1 1 1 1 1 1 1 1 1 1 1 1 1 1 1 1 1 1 1 1 1 1 1 1 1 1 1 1 1 1 1 1 1 1 1 1\n",
      " 1 1 1 1 1 1 1 1 1 1 1 1 1 1 1 2 2 2 2 2 2 2 2 2 2 2 2 2 2 2 2 2 2 2 2 2 2\n",
      " 2 2 2 2 2 2 2 2 2 2 2 2 2 2 2 2 2 2 2 2 2 2 2 2 2 2 2 2 2 2 2 2 2 2 2 2 2\n",
      " 2 2 2 2 2 2 2 2 2 2 2 2 2 2 2 2 2 2 2 2 2 2 2 2 2 2 2 2 2 2 2 2 2 2 2 2 2\n",
      " 2 2 2 2]\n"
     ]
    },
    {
     "data": {
      "image/png": "[encoded data removed]",
      "text/plain": [
       "<Figure size 432x288 with 1 Axes>"
      ]
     },
     "metadata": {
      "needs_background": "light"
     },
     "output_type": "display_data"
    }
   ],
   "source": [
    "from __future__ import division, print_function, unicode_literals\n",
    "import matplotlib.pyplot as plt\n",
    "import math\n",
    "import numpy as np\n",
    "np.random.seed(2)\n",
    "N =100 # number of points per class\n",
    "d = 2 # dimension\n",
    "C = 3 # number of classes\n",
    "X = np.zeros((d,N*C)) #data matrix\n",
    "y = np.zeros(N*C,dtype ='uint8') # class labels\n",
    "\n",
    "for j in range(C):\n",
    "    ix = range(N*j,N*(j+1)) # cột (0-300)\n",
    "    r = np.linspace(0.0,1,N) # radius\n",
    "    t = np.linspace(j*4,(j+1)*4,N) + np.random.randn(N)*0.2 # theta\n",
    "    X[:,ix] = np.c_[r*np.sin(t), r*np.cos(t)].T\n",
    "    y[ix] = j\n",
    "# print('X',X)\n",
    "print('y',y)\n",
    "# lets visualize the data:\n",
    "# plt.scatter(X[:N, 0], X[:N, 1], c=y[:N], s=40, cmap=plt.cm.Spectral)\n",
    "plt.plot(X[0,:N],X[1,:N],'ro',markersize =7)\n",
    "plt.plot(X[0,N:2*N],X[1,N:N*2],'b^',markersize =7)\n",
    "plt.plot(X[0,2*N:],X[1,2*N:],'g*',markersize =7)\n",
    "plt.xlim([-1.5, 1.5])\n",
    "plt.ylim([-1.5, 1.5])\n",
    "\n",
    "plt.show()"
   ]
  },
  {
   "cell_type": "code",
   "execution_count": 80,
   "metadata": {},
   "outputs": [],
   "source": [
    "def softmax(s):\n",
    "    e_s = np.exp(s - np.max(s,axis =0, keepdims =True))\n",
    "    return e_s/e_s.sum( axis =0)\n",
    "## One-hot coding\n",
    "from scipy import sparse\n",
    "def convert_labels(y, C= 3):\n",
    "    Y =sparse.coo_matrix((np.ones_like(y), (y, np.arange(len(y)))), shape = ( C, len(y))).toarray()\n",
    "    return Y\n",
    "# cost or loss function\n",
    "def cost(Y, Yhat):\n",
    "    return -np.sum(Y*np.log(Yhat))/Y.shape[1]\n"
   ]
  },
  {
   "cell_type": "markdown",
   "metadata": {},
   "source": [
    "# Phần thuật toán chính"
   ]
  },
  {
   "cell_type": "code",
   "execution_count": 81,
   "metadata": {},
   "outputs": [
    {
     "name": "stdout",
     "output_type": "stream",
     "text": [
      "N = 300\n",
      "Y=  [[1 1 1 1 1 1 1 1 1 1 1 1 1 1 1 1 1 1 1 1 1 1 1 1 1 1 1 1 1 1 1 1 1 1 1 1\n",
      "  1 1 1 1 1 1 1 1 1 1 1 1 1 1 1 1 1 1 1 1 1 1 1 1 1 1 1 1 1 1 1 1 1 1 1 1\n",
      "  1 1 1 1 1 1 1 1 1 1 1 1 1 1 1 1 1 1 1 1 1 1 1 1 1 1 1 1 0 0 0 0 0 0 0 0\n",
      "  0 0 0 0 0 0 0 0 0 0 0 0 0 0 0 0 0 0 0 0 0 0 0 0 0 0 0 0 0 0 0 0 0 0 0 0\n",
      "  0 0 0 0 0 0 0 0 0 0 0 0 0 0 0 0 0 0 0 0 0 0 0 0 0 0 0 0 0 0 0 0 0 0 0 0\n",
      "  0 0 0 0 0 0 0 0 0 0 0 0 0 0 0 0 0 0 0 0 0 0 0 0 0 0 0 0 0 0 0 0 0 0 0 0\n",
      "  0 0 0 0 0 0 0 0 0 0 0 0 0 0 0 0 0 0 0 0 0 0 0 0 0 0 0 0 0 0 0 0 0 0 0 0\n",
      "  0 0 0 0 0 0 0 0 0 0 0 0 0 0 0 0 0 0 0 0 0 0 0 0 0 0 0 0 0 0 0 0 0 0 0 0\n",
      "  0 0 0 0 0 0 0 0 0 0 0 0]\n",
      " [0 0 0 0 0 0 0 0 0 0 0 0 0 0 0 0 0 0 0 0 0 0 0 0 0 0 0 0 0 0 0 0 0 0 0 0\n",
      "  0 0 0 0 0 0 0 0 0 0 0 0 0 0 0 0 0 0 0 0 0 0 0 0 0 0 0 0 0 0 0 0 0 0 0 0\n",
      "  0 0 0 0 0 0 0 0 0 0 0 0 0 0 0 0 0 0 0 0 0 0 0 0 0 0 0 0 1 1 1 1 1 1 1 1\n",
      "  1 1 1 1 1 1 1 1 1 1 1 1 1 1 1 1 1 1 1 1 1 1 1 1 1 1 1 1 1 1 1 1 1 1 1 1\n",
      "  1 1 1 1 1 1 1 1 1 1 1 1 1 1 1 1 1 1 1 1 1 1 1 1 1 1 1 1 1 1 1 1 1 1 1 1\n",
      "  1 1 1 1 1 1 1 1 1 1 1 1 1 1 1 1 1 1 1 1 0 0 0 0 0 0 0 0 0 0 0 0 0 0 0 0\n",
      "  0 0 0 0 0 0 0 0 0 0 0 0 0 0 0 0 0 0 0 0 0 0 0 0 0 0 0 0 0 0 0 0 0 0 0 0\n",
      "  0 0 0 0 0 0 0 0 0 0 0 0 0 0 0 0 0 0 0 0 0 0 0 0 0 0 0 0 0 0 0 0 0 0 0 0\n",
      "  0 0 0 0 0 0 0 0 0 0 0 0]\n",
      " [0 0 0 0 0 0 0 0 0 0 0 0 0 0 0 0 0 0 0 0 0 0 0 0 0 0 0 0 0 0 0 0 0 0 0 0\n",
      "  0 0 0 0 0 0 0 0 0 0 0 0 0 0 0 0 0 0 0 0 0 0 0 0 0 0 0 0 0 0 0 0 0 0 0 0\n",
      "  0 0 0 0 0 0 0 0 0 0 0 0 0 0 0 0 0 0 0 0 0 0 0 0 0 0 0 0 0 0 0 0 0 0 0 0\n",
      "  0 0 0 0 0 0 0 0 0 0 0 0 0 0 0 0 0 0 0 0 0 0 0 0 0 0 0 0 0 0 0 0 0 0 0 0\n",
      "  0 0 0 0 0 0 0 0 0 0 0 0 0 0 0 0 0 0 0 0 0 0 0 0 0 0 0 0 0 0 0 0 0 0 0 0\n",
      "  0 0 0 0 0 0 0 0 0 0 0 0 0 0 0 0 0 0 0 0 1 1 1 1 1 1 1 1 1 1 1 1 1 1 1 1\n",
      "  1 1 1 1 1 1 1 1 1 1 1 1 1 1 1 1 1 1 1 1 1 1 1 1 1 1 1 1 1 1 1 1 1 1 1 1\n",
      "  1 1 1 1 1 1 1 1 1 1 1 1 1 1 1 1 1 1 1 1 1 1 1 1 1 1 1 1 1 1 1 1 1 1 1 1\n",
      "  1 1 1 1 1 1 1 1 1 1 1 1]]\n",
      "interation: 0, loss : 1.09868\n",
      "interation: 1000, loss : 0.13619\n",
      "interation: 2000, loss : 0.04727\n",
      "interation: 3000, loss : 0.03413\n",
      "interation: 4000, loss : 0.02839\n",
      "interation: 5000, loss : 0.02518\n",
      "interation: 6000, loss : 0.02308\n",
      "interation: 7000, loss : 0.02159\n",
      "interation: 8000, loss : 0.02045\n",
      "interation: 9000, loss : 0.01955\n",
      "interation: 10000, loss : 0.01882\n",
      "interation: 11000, loss : 0.01820\n",
      "interation: 12000, loss : 0.01768\n",
      "interation: 13000, loss : 0.01722\n",
      "interation: 14000, loss : 0.01682\n",
      "interation: 15000, loss : 0.01646\n",
      "interation: 16000, loss : 0.01614\n",
      "interation: 17000, loss : 0.01585\n",
      "interation: 18000, loss : 0.01559\n",
      "interation: 19000, loss : 0.01536\n",
      "interation: 20000, loss : 0.01514\n",
      "interation: 21000, loss : 0.01492\n",
      "interation: 22000, loss : 0.01472\n",
      "interation: 23000, loss : 0.01454\n",
      "interation: 24000, loss : 0.01438\n",
      "interation: 25000, loss : 0.01424\n",
      "interation: 26000, loss : 0.01410\n",
      "interation: 27000, loss : 0.01398\n",
      "interation: 28000, loss : 0.01387\n",
      "interation: 29000, loss : 0.01376\n",
      "interation: 30000, loss : 0.01366\n",
      "interation: 31000, loss : 0.01356\n",
      "interation: 32000, loss : 0.01347\n",
      "interation: 33000, loss : 0.01339\n",
      "interation: 34000, loss : 0.01331\n",
      "interation: 35000, loss : 0.01323\n",
      "interation: 36000, loss : 0.01316\n",
      "interation: 37000, loss : 0.01310\n",
      "interation: 38000, loss : 0.01303\n",
      "interation: 39000, loss : 0.01297\n",
      "interation: 40000, loss : 0.01291\n",
      "interation: 41000, loss : 0.01286\n",
      "interation: 42000, loss : 0.01281\n",
      "interation: 43000, loss : 0.01276\n",
      "interation: 44000, loss : 0.01271\n",
      "interation: 45000, loss : 0.01267\n",
      "interation: 46000, loss : 0.01262\n",
      "interation: 47000, loss : 0.01258\n",
      "interation: 48000, loss : 0.01254\n",
      "interation: 49000, loss : 0.01251\n"
     ]
    }
   ],
   "source": [
    "d0 = 2# input layer\n",
    "d1 = h = 100 # height of hidden layer\n",
    "d2 = C = 3 # output layer\n",
    "# initialize parameters randomly\n",
    "w1 = 0.01* np.random.randn(d0,d1)\n",
    "# print(w1)\n",
    "b1 = np.zeros((d1,1)) #bias1\n",
    "w2 = 0.01* np.random.randn(d1,d2)\n",
    "b2 = np.zeros((d2,1)) # bias2\n",
    "# convert label => one hot coding\n",
    "Y = convert_labels(y,C=3)\n",
    "N = X.shape[1]\n",
    "print('N =',N)\n",
    "print('Y= ', Y) # matrix one hot coding : 3 row, 300 columns\n",
    "eta = 1 #learning rate\n",
    "for i in range(50000):\n",
    "    #feed forward\n",
    "    Z1 = np.dot(w1.T,X) + b1\n",
    "    A1 = np.maximum(Z1,0)\n",
    "    Z2 = np.dot(w2.T,A1) + b2\n",
    "    Yhat = softmax(Z2)\n",
    "    # print loss after each 1000 interations\n",
    "    if i % 1000 ==0:\n",
    "        # compute the loss: average cross-entropy loss\n",
    "        loss = cost(Y, Yhat)\n",
    "        print( 'interation: %d, loss : %.5f' %(i,loss))\n",
    "    # backpropagation\n",
    "    E2 = 1/N * (Yhat -Y)\n",
    "    dw2 = np.dot(A1,E2.T)\n",
    "    db2 = np.sum(E2, axis =1, keepdims=True)\n",
    "    E1 = np.dot(w2,E2) # E1 = W2*E2* grad(z), mà đạo hàm của f'(z)= 1 nếu x>0, và f'(z)=0 nếu x<=0 ( nên mặc định nó bằng 1)\n",
    "    E1[Z1 <= 0] = 0 # gradient of ReLU\n",
    "    dw1 = np.dot(X,E1.T)\n",
    "    db1 = np.sum(E1, axis =1, keepdims =True)\n",
    "    # gradient descent update\n",
    "    w1 = w1 - eta*dw1\n",
    "    b1 = b1 - eta*db1\n",
    "    w2 = w2 - eta*dw2\n",
    "    b2 = b2 - eta*db2"
   ]
  },
  {
   "cell_type": "code",
   "execution_count": 82,
   "metadata": {},
   "outputs": [
    {
     "name": "stdout",
     "output_type": "stream",
     "text": [
      "predict class:  [2 0 0 0 0 0 0 0 0 0 0 0 0 0 0 0 0 0 0 0 0 0 0 0 0 0 0 0 0 0 0 0 0 0 0 0 0\n",
      " 0 0 0 0 0 0 0 0 0 0 0 0 0 0 0 0 0 0 0 0 0 0 0 0 0 0 0 0 0 0 0 0 0 0 0 0 0\n",
      " 0 0 0 0 0 0 0 0 0 0 0 0 0 0 0 0 0 0 0 0 0 0 0 0 0 0 2 1 1 1 1 1 1 1 1 1 1\n",
      " 1 1 1 1 1 1 1 1 1 1 1 1 1 1 1 1 1 1 1 1 1 1 1 1 1 1 1 1 1 1 1 1 1 1 1 1 1\n",
      " 1 1 1 1 1 1 1 1 1 1 1 1 1 1 1 1 1 1 1 1 1 1 1 1 1 1 1 1 1 1 1 1 1 1 1 1 1\n",
      " 1 1 1 1 1 1 1 1 1 1 1 1 1 1 1 2 2 2 2 2 2 2 2 2 2 2 2 2 2 2 2 2 2 2 2 2 2\n",
      " 2 2 2 2 2 2 2 2 2 2 2 2 2 2 2 2 2 2 2 2 2 2 2 2 2 2 2 2 2 2 2 2 2 2 2 2 2\n",
      " 2 2 2 2 2 2 2 2 2 2 2 2 2 2 2 2 2 2 2 2 2 2 2 2 2 2 2 2 2 2 2 2 2 2 2 2 2\n",
      " 2 2 2 2]\n",
      "train accuracy score:  99.33333333333333\n",
      "accuracy_score: 99.33333333333333\n"
     ]
    }
   ],
   "source": [
    "# Kết quả\n",
    "Z1 = np.dot(w1.T,X) + b1\n",
    "A1 = np.maximum(Z1,0)\n",
    "Z2 = np.dot(w2.T,A1) + b2\n",
    "predict_class = np.argmax(Z2,axis =0)\n",
    "print('predict class: ', predict_class)\n",
    "print('train accuracy score: ', 100* np.mean(predict_class==y))\n",
    "from sklearn.metrics import accuracy_score\n",
    "print('accuracy_score:',100*accuracy_score(y, predict_class))"
   ]
  },
  {
   "cell_type": "code",
   "execution_count": 88,
   "metadata": {},
   "outputs": [
    {
     "name": "stdout",
     "output_type": "stream",
     "text": [
      "(1, 14400)\n",
      "100\n"
     ]
    },
    {
     "data": {
      "image/png": "[encoded data removed]",
      "text/plain": [
       "<Figure size 432x288 with 1 Axes>"
      ]
     },
     "metadata": {},
     "output_type": "display_data"
    }
   ],
   "source": [
    "#Visualization\n",
    "xm = np.arange(-1.5, 1.5, 0.025)\n",
    "xlen = len(xm)\n",
    "ym = np.arange(-1.5, 1.5, 0.025)\n",
    "ylen = len(ym)\n",
    "xx, yy = np.meshgrid(xm, ym)\n",
    "\n",
    "\n",
    "# xx, yy = np.meshgrid(np.arange(x_min, x_max, h), np.arange(y_min, y_max, h))\n",
    "# xx.ravel(), yy.ravel()\n",
    "\n",
    "print(np.ones((1, xx.size)).shape)\n",
    "xx1 = xx.ravel().reshape(1, xx.size)\n",
    "yy1 = yy.ravel().reshape(1, yy.size)\n",
    "\n",
    "# print(xx.shape, yy.shape)\n",
    "# XX = np.concatenate((np.ones((1, xx.size)), xx1, yy1), axis = 0)\n",
    "\n",
    "X0 = np.vstack((xx1, yy1))\n",
    "\n",
    "# print(X.shape)\n",
    "\n",
    "Z1 = np.dot(w1.T, X0) + b1 \n",
    "A1 = np.maximum(Z1, 0)\n",
    "Z2 = np.dot(w2.T, A1) + b2\n",
    "# predicted class \n",
    "Z = np.argmax(Z2, axis=0)\n",
    "\n",
    "Z = Z.reshape(xx.shape)\n",
    "CS = plt.contourf(xx, yy, Z, 200, cmap='jet', alpha = .1) # tính xem mỗi điểm thuộc class nào rồi cho màu tương ứng. k trực tiếp vẽ boundary line\n",
    "\n",
    "N = 100\n",
    "print(N)\n",
    "\n",
    "\n",
    "plt.plot(X[0, :N], X[1, :N], 'bs', markersize = 7);\n",
    "plt.plot(X[0, N:2*N], X[1, N:2*N], 'g^', markersize = 7);\n",
    "plt.plot(X[0, 2*N:], X[1, 2*N:], 'ro', markersize = 7);\n",
    "# plt.axis('off')\n",
    "plt.xlim([-1.5, 1.5])\n",
    "plt.ylim([-1.5, 1.5])\n",
    "cur_axes = plt.gca()\n",
    "cur_axes.axes.get_xaxis().set_ticks([])\n",
    "cur_axes.axes.get_yaxis().set_ticks([])\n",
    "\n",
    "plt.xlim(-1.5, 1.5)\n",
    "plt.ylim(-1.5, 1.5)\n",
    "plt.xticks(())\n",
    "plt.yticks(())\n",
    "# plt.axis('equal')\n",
    "# display(X[1:, :], original_label)\n",
    "fn = 'ex_res'+ str(d1) + '.png'\n",
    "# plt.savefig(fn, bbox_inches='tight', dpi = 600)\n",
    "plt.show()"
   ]
  }
 ],
 "metadata": {
  "kernelspec": {
   "display_name": "Python 3",
   "language": "python",
   "name": "python3"
  },
  "language_info": {
   "codemirror_mode": {
    "name": "ipython",
    "version": 3
   },
   "file_extension": ".py",
   "mimetype": "text/x-python",
   "name": "python",
   "nbconvert_exporter": "python",
   "pygments_lexer": "ipython3",
   "version": "3.7.1"
  }
 },
 "nbformat": 4,
 "nbformat_minor": 2
}
