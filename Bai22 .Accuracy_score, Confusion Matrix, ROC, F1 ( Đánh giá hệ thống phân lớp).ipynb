{
 "cells": [
  {
   "cell_type": "code",
   "execution_count": 8,
   "metadata": {},
   "outputs": [
    {
     "name": "stdout",
     "output_type": "stream",
     "text": [
      "6\n",
      "accuracy_score function:  0.6\n",
      "accuracy_score library:  0.6\n"
     ]
    }
   ],
   "source": [
    "# ACCURACY SCORE\n",
    "import numpy as np\n",
    "from sklearn.metrics import accuracy_score\n",
    "y_true = np.array([0, 0, 0, 0, 1, 1, 1, 2, 2, 2])\n",
    "y_pred = np.array([0, 1, 0, 2, 1, 1, 0, 2, 1, 2])\n",
    "# function accuracy_score : N_true/ N\n",
    "def accuracy( y_pred, y_true):\n",
    "    score = np.sum(y_pred == y_true)\n",
    "    print(score)\n",
    "    return float(score)/y_true.shape[0]\n",
    "print('accuracy_score function: ', accuracy(y_pred, y_true))\n",
    "print('accuracy_score library: ',accuracy_score(y_pred, y_true))\n"
   ]
  },
  {
   "cell_type": "code",
   "execution_count": 26,
   "metadata": {},
   "outputs": [
    {
     "name": "stdout",
     "output_type": "stream",
     "text": [
      "3\n",
      "confusion matrix function:\n",
      "  [[2. 1. 1.]\n",
      " [1. 2. 0.]\n",
      " [0. 1. 2.]]\n",
      "accuracy _score of confusion matrix:  0.6\n",
      "Normalized confusion matrix : \n",
      "  [[0.5        0.25       0.25      ]\n",
      " [0.33333333 0.66666667 0.        ]\n",
      " [0.         0.33333333 0.66666667]]\n",
      "confusion matrix library: \n",
      " [[2 1 0]\n",
      " [1 2 1]\n",
      " [1 0 2]]\n"
     ]
    }
   ],
   "source": [
    "# CONFUSION MATRIX\n",
    "# function confusion matrix\n",
    "print(np.unique(y_pred).shape[0])\n",
    "def confusion_matrix_my ( y_pred, y_true):\n",
    "    N = np.unique(y_pred).shape[0] # number of class\n",
    "    cm = np.zeros((N,N))\n",
    "    for n in range( y_true.shape[0]):\n",
    "        cm[ y_true[n],y_pred[n]] +=1\n",
    "    return cm\n",
    "confusionMatrix = confusion_matrix_my(y_pred, y_true)\n",
    "print('confusion matrix function:\\n ', confusionMatrix)\n",
    "print('accuracy _score of confusion matrix: ', np.diagonal(confusionMatrix).sum()/confusionMatrix.sum())\n",
    "\n",
    "#confusion matrix normalized (lấy từng phần tử chia cho tổng số phần tử mỗi hàng)\n",
    "cm_normalized = confusionMatrix/np.sum(confusionMatrix, axis =1, keepdims = True)\n",
    "print('Normalized confusion matrix : \\n ' ,cm_normalized)\n",
    "from sklearn.metrics import confusion_matrix\n",
    "print('confusion matrix library: \\n', confusion_matrix(y_pred, y_true))"
   ]
  },
  {
   "cell_type": "code",
   "execution_count": 37,
   "metadata": {},
   "outputs": [
    {
     "name": "stdout",
     "output_type": "stream",
     "text": [
      "[0.44909289 0.09393342 0.1486204  0.43580406 0.09367245 0.04908051\n",
      " 0.3817437  0.46548203 0.06370431 0.24778732 0.02142715 0.0931205\n",
      " 0.00274757 0.35757508 0.40737199 0.14569111 0.04162731 0.29105901\n",
      " 0.23945923 0.39344204 0.39637583 0.27487569 0.60489091 0.60499449\n",
      " 0.69847994 0.48898583 0.46828395 0.34871825 0.38078085 0.37175647\n",
      " 0.4163468  0.68957119 0.56048537 0.20522794 0.41052943 0.55786723\n",
      " 0.3028531  0.55771343 0.22630342 0.42155893 0.58024341 0.63191827\n",
      " 0.51561201 0.37018069 0.52984237 0.54610231 0.51649361 0.58936035\n",
      " 0.67730149 0.38605955]\n",
      "[0 0 0 0 0 0 0 0 0 0 0 0 0 0 0 0 0 0 0 0 1 1 1 1 1 1 1 1 1 1 1 1 1 1 1 1 1\n",
      " 1 1 1 1 1 1 1 1 1 1 1 1 1]\n",
      "threshold: \n",
      "\n",
      "[1.69847994 0.69847994 0.46828395 0.43580406 0.41052943 0.40737199\n",
      " 0.39637583 0.39344204 0.38605955 0.3817437  0.37018069 0.35757508\n",
      " 0.3028531  0.29105901 0.27487569 0.23945923 0.20522794 0.00274757]\n",
      "false positive rate: \n",
      " [0.   0.   0.   0.15 0.15 0.2  0.2  0.25 0.25 0.3  0.3  0.35 0.35 0.4\n",
      " 0.4  0.5  0.5  1.  ]\n",
      "true positive rate: \n",
      " [0.         0.03333333 0.56666667 0.56666667 0.66666667 0.66666667\n",
      " 0.7        0.7        0.73333333 0.73333333 0.83333333 0.83333333\n",
      " 0.9        0.9        0.93333333 0.93333333 1.         1.        ]\n"
     ]
    },
    {
     "data": {
      "image/png": "[encoded data removed]",
      "text/plain": [
       "<Figure size 432x288 with 1 Axes>"
      ]
     },
     "metadata": {
      "needs_background": "light"
     },
     "output_type": "display_data"
    }
   ],
   "source": [
    "# ROC curve ( điều chỉnh ngưỡng threshold) RECEIVER OPERATING CHARACTERISTIC CURVE,AUC( area under curve)\n",
    "n0, n1 =20, 30 # n0: negative, n1 : positive\n",
    "score0 = np.random.rand(n0)/2\n",
    "label0 = np.zeros(n0, dtype = int)\n",
    "score1 = np.random.rand(n1)/2 + 0.2\n",
    "label1 = np.ones(n1, dtype = int)\n",
    "score = np.concatenate((score0, score1))\n",
    "y_true = np.concatenate((label0, label1))\n",
    "print(score)\n",
    "print(y_true)\n",
    "# threshold\n",
    "from sklearn.metrics import roc_curve, auc\n",
    "fpr, tpr, threshold = roc_curve(y_true, score, pos_label =1)\n",
    "print('threshold: \\n')\n",
    "print(threshold)\n",
    "print('false positive rate: \\n',fpr)\n",
    "print('true positive rate: \\n', tpr)\n",
    "# Minh họa cho bài toán trên\n",
    "import matplotlib.pyplot as plt\n",
    "from itertools import cycle\n",
    "plt.figure()\n",
    "lw = 2\n",
    "plt.plot(fpr, tpr, color='darkorange',\n",
    "         lw=lw, label='ROC curve (area = %0.2f)' % auc(fpr, tpr))\n",
    "plt.plot([0, 1], [0, 1], color='navy', lw=lw, linestyle='--')\n",
    "plt.xlim([0.0, 1.0])\n",
    "plt.ylim([0.0, 1.05])\n",
    "plt.xlabel('False Positive Rate')\n",
    "plt.ylabel('True Positive Rate')\n",
    "plt.title('Receiver operating characteristic example')\n",
    "plt.legend(loc=\"lower right\")\n",
    "plt.show()"
   ]
  },
  {
   "cell_type": "code",
   "execution_count": 40,
   "metadata": {},
   "outputs": [
    {
     "data": {
      "text/plain": [
       "(0.8333333333333334, 0.9090909090909091)"
      ]
     },
     "execution_count": 40,
     "metadata": {},
     "output_type": "execute_result"
    }
   ],
   "source": [
    "# Precision Recall\n",
    "# precision = TP/(TP + FP): số điểm true positive / ( tổng số dự đoán positive)\n",
    "# recall =    TP/(TP + FN): số điểm true positive/ (thực sự là positive)\n",
    "\n",
    "def precision_recall(cm):\n",
    "    precision = cm[0,0]/np.sum(cm[:,0])\n",
    "    recall    = cm[0,0]/np.sum(cm[0])\n",
    "    return (precision, recall)\n",
    "cm = np.array([[100., 10],[20, 70]])\n",
    "precision_recall(cm)"
   ]
  }
 ],
 "metadata": {
  "kernelspec": {
   "display_name": "Python 3",
   "language": "python",
   "name": "python3"
  },
  "language_info": {
   "codemirror_mode": {
    "name": "ipython",
    "version": 3
   },
   "file_extension": ".py",
   "mimetype": "text/x-python",
   "name": "python",
   "nbconvert_exporter": "python",
   "pygments_lexer": "ipython3",
   "version": "3.7.1"
  }
 },
 "nbformat": 4,
 "nbformat_minor": 2
}
