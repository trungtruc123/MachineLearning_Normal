{
 "cells": [
  {
   "cell_type": "markdown",
   "metadata": {},
   "source": [
    "# Multinomial NB \n",
    "phân phối xác suất NB đa thức\n"
   ]
  },
  {
   "cell_type": "code",
   "execution_count": 7,
   "metadata": {},
   "outputs": [
    {
     "name": "stdout",
     "output_type": "stream",
     "text": [
      "Predict class d5: B\n",
      "Predict class d6: N\n",
      "Probability  of d5: [[0.89548823 0.10451177]]\n",
      "Probability  of d6: [[0.29175335 0.70824665]]\n"
     ]
    }
   ],
   "source": [
    "import numpy as np\n",
    "from sklearn.naive_bayes import MultinomialNB\n",
    "\n",
    "# train data\n",
    "d1 = [2, 1, 1, 0, 0, 0, 0, 0, 0]\n",
    "d2 = [1, 1, 0, 1, 1, 0, 0, 0, 0]\n",
    "d3 = [0, 1, 0, 0, 1, 1, 0, 0, 0]\n",
    "d4 = [0, 1, 0, 0, 0, 0, 1, 1, 1]\n",
    "\n",
    "x_train = np.array([d1,d2,d3,d4])\n",
    "y_label = np.array(['B','B','B','N'])\n",
    "# test data\n",
    "d5 = np.array([[2, 0, 0, 1, 0, 0, 0, 1, 0]])\n",
    "d6 = np.array([[0, 1, 0, 0, 0, 0, 0, 1, 1]])\n",
    "\n",
    "clf = MultinomialNB()\n",
    "clf.fit(x_train, y_label)\n",
    "\n",
    "print('Predict class d5:', clf.predict(d5)[0])\n",
    "print('Predict class d6:', clf.predict(d6)[0])\n",
    "\n",
    "print('Probability  of d5:', clf.predict_proba(d5))\n",
    "print('Probability  of d6:', clf.predict_proba(d6))"
   ]
  },
  {
   "cell_type": "markdown",
   "metadata": {},
   "source": [
    "# Bernoulli NB"
   ]
  },
  {
   "cell_type": "code",
   "execution_count": 10,
   "metadata": {},
   "outputs": [
    {
     "name": "stdout",
     "output_type": "stream",
     "text": [
      "Predict class d5: B\n",
      "Predict class d6: N\n",
      "Probability  of d5: [[0.76554295 0.23445705]]\n",
      "Probability  of d6: [[0.16948581 0.83051419]]\n"
     ]
    }
   ],
   "source": [
    "import numpy as np\n",
    "from sklearn.naive_bayes import BernoulliNB\n",
    "\n",
    "# train data\n",
    "d1 = [2, 1, 1, 0, 0, 0, 0, 0, 0]\n",
    "d2 = [1, 1, 0, 1, 1, 0, 0, 0, 0]\n",
    "d3 = [0, 1, 0, 0, 1, 1, 0, 0, 0]\n",
    "d4 = [0, 1, 0, 0, 0, 0, 1, 1, 1]\n",
    "\n",
    "x_train = np.array([d1,d2,d3,d4])\n",
    "y_label = np.array(['B','B','B','N'])  # 0- B. 1 - N\n",
    "# test data\n",
    "d5 = np.array([[2, 0, 0, 1, 0, 0, 0, 1, 0]])\n",
    "d6 = np.array([[0, 1, 0, 0, 0, 0, 0, 1, 1]])\n",
    "\n",
    "clf = BernoulliNB()\n",
    "clf.fit(x_train, y_label)\n",
    "\n",
    "print('Predict class d5:', clf.predict(d5)[0])\n",
    "print('Predict class d6:', clf.predict(d6)[0])\n",
    "\n",
    "print('Probability  of d5:', clf.predict_proba(d5))\n",
    "print('Probability  of d6:', clf.predict_proba(d6))"
   ]
  },
  {
   "cell_type": "markdown",
   "metadata": {},
   "source": [
    "# Lọc email spam"
   ]
  },
  {
   "cell_type": "code",
   "execution_count": 13,
   "metadata": {},
   "outputs": [],
   "source": [
    "import numpy as np\n",
    "from sklearn.naive_bayes import MultinomialNB, BernoulliNB\n",
    "from scipy.sparse import coo_matrix\n",
    "from sklearn.metrics import accuracy_score\n",
    "\n",
    "path ='ex6DataPrepared/'\n",
    "train_data_fn = 'train-features.txt'\n",
    "train_label_fn = 'train-labels.txt'\n",
    "\n",
    "test_data_fn = 'test-features.txt'\n",
    "test_label_fn = 'test-labels.txt'\n"
   ]
  },
  {
   "cell_type": "code",
   "execution_count": 43,
   "metadata": {},
   "outputs": [
    {
     "name": "stdout",
     "output_type": "stream",
     "text": [
      "  (0, 563)\t1\n",
      "  (0, 49)\t1\n",
      "  (0, 742)\t1\n",
      "  (0, 1763)\t1\n",
      "  (0, 1867)\t1\n",
      "  (0, 84)\t1\n",
      "  (0, 1815)\t1\n",
      "  (0, 74)\t1\n",
      "  (0, 138)\t1\n",
      "  (0, 776)\t1\n",
      "  (0, 1276)\t1\n",
      "  (0, 199)\t1\n",
      "  (0, 351)\t1\n",
      "  (0, 44)\t1\n",
      "  (0, 18)\t2\n",
      "  (0, 350)\t1\n",
      "  (0, 1130)\t1\n",
      "  (0, 1638)\t1\n",
      "  (0, 512)\t1\n",
      "  (1, 158)\t1\n",
      "  (1, 34)\t5\n",
      "  (1, 96)\t1\n",
      "  (1, 1480)\t1\n",
      "  (1, 976)\t2\n",
      "  (1, 726)\t1\n",
      "  :\t:\n",
      "  (49, 427)\t1\n",
      "  (49, 6)\t4\n",
      "  (49, 25)\t7\n",
      "  (49, 789)\t1\n",
      "  (49, 107)\t1\n",
      "  (49, 91)\t1\n",
      "  (49, 1000)\t2\n",
      "  (49, 413)\t1\n",
      "  (49, 1510)\t1\n",
      "  (49, 47)\t1\n",
      "  (49, 836)\t2\n",
      "  (49, 711)\t1\n",
      "  (49, 1780)\t1\n",
      "  (49, 321)\t1\n",
      "  (49, 402)\t1\n",
      "  (49, 133)\t2\n",
      "  (49, 155)\t2\n",
      "  (49, 1764)\t1\n",
      "  (49, 58)\t2\n",
      "  (49, 129)\t1\n",
      "  (49, 1712)\t1\n",
      "  (49, 12)\t1\n",
      "  (49, 1561)\t1\n",
      "  (49, 2)\t1\n",
      "  (49, 8)\t1\n",
      "Shape train_data:  50 accuracy:  97.3076923076923\n"
     ]
    }
   ],
   "source": [
    "nwords =2500 # số từ trong từ điển\n",
    "def read_data(data_fn, label_fn):\n",
    "    # read label fn\n",
    "    with open (path + label_fn) as f:\n",
    "        content = f.readlines()\n",
    "    label = [int(x.strip()) for x in content]\n",
    "#     print(label)\n",
    "    #read data_fn\n",
    "    with open(path + data_fn) as f:\n",
    "        content = f.readlines()\n",
    "    # remove /n end each line\n",
    "    content_arr = [x.strip() for x in content]\n",
    "    #print(content_line)\n",
    "    data_mat = np.zeros((len(content_arr),3), dtype = int) # matrix(N,3) lưu nội dung\n",
    "    for i, line in enumerate(content_arr):\n",
    "        a = line.split(' ') # split a => a[0], a[1], a[2]\n",
    "        data_mat[i,:] = np.array([int(a[0]), int (a[1]), int(a[2])])\n",
    "    # remember -1 in python index start =0\n",
    "    # sparse coo_matrix\n",
    "    data = coo_matrix((data_mat[:,2],(data_mat[:,0]-1,data_mat[:,1]-1)), shape =(len(label),nwords))\n",
    "    return (data, label)\n",
    "\n",
    "\n",
    "(train_data, train_label) = read_data(train_data_fn, train_label_fn)\n",
    "(test_data, test_label)   = read_data(test_data_fn, test_label_fn)\n",
    "print(train_data)\n",
    "# MutinomialNB\n",
    "clf = MultinomialNB()\n",
    "clf.fit(train_data, train_label)\n",
    "#predict\n",
    "label_pred = clf.predict(test_data)\n",
    "print('Shape train_data: ', train_data.shape[0],'accuracy: ', accuracy_score(label_pred, test_label)*100)"
   ]
  },
  {
   "cell_type": "code",
   "execution_count": 39,
   "metadata": {},
   "outputs": [
    {
     "name": "stdout",
     "output_type": "stream",
     "text": [
      "Shape train_data:  100 accuracy:  97.6923076923077\n"
     ]
    }
   ],
   "source": [
    "# Tiếp tục dự đoán với số lượng train nhỏ hơn\n",
    "train_data_fn = 'train-features-100.txt'\n",
    "train_label_fn = 'train-labels-100.txt'\n",
    "test_data_fn = 'test-features.txt'\n",
    "test_label_fn = 'test-labels.txt'\n",
    "\n",
    "(train_data, train_label) = read_data(train_data_fn, train_label_fn)\n",
    "(test_data, test_label)   = read_data(test_data_fn, test_label_fn)\n",
    "# MutinomialNB\n",
    "clf = MultinomialNB()\n",
    "clf.fit(train_data, train_label)\n",
    "#predict\n",
    "label_pred = clf.predict(test_data)\n",
    "print('Shape train_data: ', train_data.shape[0],'accuracy: ', accuracy_score(label_pred, test_label)*100)"
   ]
  },
  {
   "cell_type": "code",
   "execution_count": 40,
   "metadata": {},
   "outputs": [
    {
     "name": "stdout",
     "output_type": "stream",
     "text": [
      "Shape train_data:  50 accuracy:  97.3076923076923\n"
     ]
    }
   ],
   "source": [
    "# tiếp tục dự đoán với số lượng train 50\n",
    "train_data_fn = 'train-features-50.txt'\n",
    "train_label_fn = 'train-labels-50.txt'\n",
    "test_data_fn = 'test-features.txt'\n",
    "test_label_fn = 'test-labels.txt'\n",
    "\n",
    "(train_data, train_label) = read_data(train_data_fn, train_label_fn)\n",
    "(test_data, test_label)   = read_data(test_data_fn, test_label_fn)\n",
    "# MutinomialNB\n",
    "clf = MultinomialNB()\n",
    "clf.fit(train_data, train_label)\n",
    "#predict\n",
    "label_pred = clf.predict(test_data)\n",
    "print('Shape train_data: ', train_data.shape[0],'accuracy: ', accuracy_score(label_pred, test_label)*100)"
   ]
  },
  {
   "cell_type": "code",
   "execution_count": 41,
   "metadata": {},
   "outputs": [
    {
     "name": "stdout",
     "output_type": "stream",
     "text": [
      "Shape train_data:  50 accuracy BernoulliNB :  69.61538461538461\n"
     ]
    }
   ],
   "source": [
    "# thử mô hình trên bằng pp Bernoulli NB\n",
    "clf = BernoulliNB()\n",
    "clf.fit(train_data, train_label)\n",
    "#predict\n",
    "label_pred = clf.predict(test_data)\n",
    "print('Shape train_data: ', train_data.shape[0],'accuracy BernoulliNB : ', accuracy_score(label_pred, test_label)*100)"
   ]
  },
  {
   "cell_type": "markdown",
   "metadata": {},
   "source": [
    "# MultinomialNB tốt hơn BernoulliNB trong trường hợp này"
   ]
  }
 ],
 "metadata": {
  "kernelspec": {
   "display_name": "Python 3",
   "language": "python",
   "name": "python3"
  },
  "language_info": {
   "codemirror_mode": {
    "name": "ipython",
    "version": 3
   },
   "file_extension": ".py",
   "mimetype": "text/x-python",
   "name": "python",
   "nbconvert_exporter": "python",
   "pygments_lexer": "ipython3",
   "version": "3.7.1"
  }
 },
 "nbformat": 4,
 "nbformat_minor": 2
}
