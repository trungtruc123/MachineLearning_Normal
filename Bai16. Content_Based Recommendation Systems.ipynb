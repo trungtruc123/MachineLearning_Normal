{
 "cells": [
  {
   "cell_type": "code",
   "execution_count": 26,
   "metadata": {
    "scrolled": true
   },
   "outputs": [
    {
     "name": "stdout",
     "output_type": "stream",
     "text": [
      "Users shape 943\n",
      "users: \n",
      "    user_id  age gender  occupation zip_code\n",
      "0        1   24      M  technician    85711\n",
      "1        2   53      F       other    94043\n",
      "2        3   23      M      writer    32067\n",
      "3        4   24      M  technician    43537\n",
      "4        5   33      F       other    15213\n",
      "rating_base: \n",
      "    user_id  movie_id  rating       time\n",
      "0        1         1       5  874965758\n",
      "1        1         2       3  876893171\n",
      "2        1         3       4  878542960\n",
      "3        1         4       3  876893119\n",
      "4        1         5       3  889751712\n",
      "[[        1         1         5 874965758]\n",
      " [        1         2         3 876893171]\n",
      " [        1         3         4 878542960]\n",
      " ...\n",
      " [      943      1188         3 888640250]\n",
      " [      943      1228         3 888640275]\n",
      " [      943      1330         3 888692465]]\n",
      "rate_train : 90570\n",
      "rate_test : 9430\n"
     ]
    },
    {
     "name": "stderr",
     "output_type": "stream",
     "text": [
      "C:\\ProgramData\\Anaconda3\\lib\\site-packages\\ipykernel_launcher.py:12: FutureWarning: Method .as_matrix will be removed in a future version. Use .values instead.\n",
      "  if sys.path[0] == '':\n",
      "C:\\ProgramData\\Anaconda3\\lib\\site-packages\\ipykernel_launcher.py:13: FutureWarning: Method .as_matrix will be removed in a future version. Use .values instead.\n",
      "  del sys.path[0]\n"
     ]
    }
   ],
   "source": [
    "import pandas as pd\n",
    "# read user file\n",
    "user_cols =['user_id','age','gender','occupation','zip_code']\n",
    "users = pd.read_csv('ml-100k/ml-100k/u.user', sep ='|', names =user_cols)\n",
    "print('Users shape', users.shape[0])\n",
    "print('users: \\n', users.head())\n",
    "##Reading ratings file:\n",
    "r_cols =['user_id','movie_id','rating','time']\n",
    "rating_base = pd.read_csv('ml-100k/ml-100k/ua.base', sep ='\\t', names =r_cols)\n",
    "rating_test = pd.read_csv('ml-100k/ml-100k/ua.test', sep ='\\t', names =r_cols)\n",
    "print('rating_base: \\n', rating_base.head())\n",
    "rate_train = rating_base.as_matrix()\n",
    "rate_test  = rating_test.as_matrix()\n",
    "print(rate_train)\n",
    "print('rate_train :', rate_train.shape[0])\n",
    "print('rate_test :', rate_test.shape[0])"
   ]
  },
  {
   "cell_type": "markdown",
   "metadata": {},
   "source": [
    "# Xây dựng item profile"
   ]
  },
  {
   "cell_type": "code",
   "execution_count": 79,
   "metadata": {},
   "outputs": [
    {
     "name": "stdout",
     "output_type": "stream",
     "text": [
      "shape items:  1682\n",
      "items :\n",
      "    movie_id        movie_title release_date  video release date  \\\n",
      "0         1   Toy Story (1995)  01-Jan-1995                 NaN   \n",
      "1         2   GoldenEye (1995)  01-Jan-1995                 NaN   \n",
      "2         3  Four Rooms (1995)  01-Jan-1995                 NaN   \n",
      "3         4  Get Shorty (1995)  01-Jan-1995                 NaN   \n",
      "4         5     Copycat (1995)  01-Jan-1995                 NaN   \n",
      "\n",
      "                                            IMDb URL  unknown  Action  \\\n",
      "0  http://us.imdb.com/M/title-exact?Toy%20Story%2...        0       0   \n",
      "1  http://us.imdb.com/M/title-exact?GoldenEye%20(...        0       1   \n",
      "2  http://us.imdb.com/M/title-exact?Four%20Rooms%...        0       0   \n",
      "3  http://us.imdb.com/M/title-exact?Get%20Shorty%...        0       1   \n",
      "4  http://us.imdb.com/M/title-exact?Copycat%20(1995)        0       0   \n",
      "\n",
      "   Adventure  Animation  Children's   ...     Fantasy  Film-Noir  Horror  \\\n",
      "0          0          1           1   ...           0          0       0   \n",
      "1          1          0           0   ...           0          0       0   \n",
      "2          0          0           0   ...           0          0       0   \n",
      "3          0          0           0   ...           0          0       0   \n",
      "4          0          0           0   ...           0          0       0   \n",
      "\n",
      "   Musical  Mystery  Romance  Sci-Fi  Thriller  War  Western  \n",
      "0        0        0        0       0         0    0        0  \n",
      "1        0        0        0       0         1    0        0  \n",
      "2        0        0        0       0         1    0        0  \n",
      "3        0        0        0       0         0    0        0  \n",
      "4        0        0        0       0         1    0        0  \n",
      "\n",
      "[5 rows x 24 columns]\n",
      "[[0 0 0 ... 0 0 0]\n",
      " [0 1 1 ... 1 0 0]\n",
      " [0 0 0 ... 1 0 0]\n",
      " ...\n",
      " [0 0 0 ... 0 0 0]\n",
      " [0 0 0 ... 0 0 0]\n",
      " [0 0 0 ... 0 0 0]]\n",
      "tfidf:  [[0.         0.         0.         ... 0.         0.         0.        ]\n",
      " [0.         0.53676706 0.65097024 ... 0.53676706 0.         0.        ]\n",
      " [0.         0.         0.         ... 1.         0.         0.        ]\n",
      " ...\n",
      " [0.         0.         0.         ... 0.         0.         0.        ]\n",
      " [0.         0.         0.         ... 0.         0.         0.        ]\n",
      " [0.         0.         0.         ... 0.         0.         0.        ]]\n",
      "tfidf shape (1682, 19)\n"
     ]
    },
    {
     "name": "stderr",
     "output_type": "stream",
     "text": [
      "C:\\ProgramData\\Anaconda3\\lib\\site-packages\\ipykernel_launcher.py:9: FutureWarning: Method .as_matrix will be removed in a future version. Use .values instead.\n",
      "  if __name__ == '__main__':\n"
     ]
    }
   ],
   "source": [
    "# read file item\n",
    "item_cols =['movie_id','movie_title','release_date','video release date', 'IMDb URL', 'unknown', 'Action', 'Adventure',\n",
    " 'Animation', 'Children\\'s', 'Comedy', 'Crime', 'Documentary', 'Drama', 'Fantasy',\n",
    " 'Film-Noir', 'Horror', 'Musical', 'Mystery', 'Romance', 'Sci-Fi', 'Thriller', 'War', 'Western']\n",
    "items = pd.read_csv('ml-100k/ml-100k/u.item', sep ='|', names =item_cols, encoding ='latin-1')\n",
    "print('shape items: ', items.shape[0])\n",
    "print('items :\\n', items.head())\n",
    "# Vì ta quan tâm đến 19 thể loại của mỗi items\n",
    "X0 = items.as_matrix()\n",
    "X_train_counts = X0 [:,-19:] #-19: -1\n",
    "print(X_train_counts)\n",
    "\n",
    "# Xây dựng các feature vector bằng TF-IDF\n",
    "from sklearn.feature_extraction.text import TfidfTransformer\n",
    "transformer = TfidfTransformer(smooth_idf = True, norm ='l2')\n",
    "tfidf = transformer.fit_transform(X_train_counts.tolist()).toarray()\n",
    "print('tfidf: ',tfidf) # Sau bước này : mỗi hàng của tfidf tương ứng với feature vector của một bộ phim\n",
    "print('tfidf shape', tfidf.shape)"
   ]
  },
  {
   "cell_type": "markdown",
   "metadata": {},
   "source": [
    "Tiếp theo, với mỗi user, chúng ta cần đi tìm những bộ phim nào mà user đó đã rated, và giá trị của các rating đó."
   ]
  },
  {
   "cell_type": "code",
   "execution_count": 47,
   "metadata": {},
   "outputs": [],
   "source": [
    "import numpy as np\n",
    "def get_items_rated_by_user(rate_matrix, user_id):\n",
    "    \"\"\"\n",
    "    in each line of rate_matrix, we have infor: user_id, item_id, rating (scores), time_stamp\n",
    "    we care about the first three values\n",
    "    return (item_ids, scores) rated by user user_id\n",
    "    \"\"\"\n",
    "    y = rate_matrix[:,0] # all user\n",
    "    # item indices rated by user_id\n",
    "    # we need to +1 to user_id since in the rate_matrix, id starts from 1 \n",
    "    # while index in python starts from 0\n",
    "    ids = np.where(y == user_id +1)[0]\n",
    "    item_ids = rate_matrix[ids,1] -1 # index  start from 0\n",
    "    score = rate_matrix[ids,2] #rating\n",
    "    return (item_ids, score)"
   ]
  },
  {
   "cell_type": "markdown",
   "metadata": {},
   "source": [
    "# Tìm mô hình cho mỗi user\n",
    "Sử dụng thư viện Ridge Regression"
   ]
  },
  {
   "cell_type": "code",
   "execution_count": 61,
   "metadata": {},
   "outputs": [
    {
     "name": "stdout",
     "output_type": "stream",
     "text": [
      "19\n",
      "W: (19, 943)\n",
      "b:  (1, 943)\n",
      "943\n",
      "predict:  [[2.91838332 3.99617751 1.90305533 ... 5.03731383 4.77954355 3.16575325]\n",
      " [2.80263057 3.43501556 3.29904303 ... 1.09956555 4.75937828 3.69972213]\n",
      " [3.4830386  1.56190995 1.26948894 ... 7.35604832 4.18870316 3.80591695]\n",
      " ...\n",
      " [4.12679785 4.09647029 3.02107854 ... 9.53834396 4.64249022 3.27349356]\n",
      " [3.56723527 3.45068283 2.92544446 ... 3.68357866 3.6551852  2.75740298]\n",
      " [4.13381936 3.80361821 3.09903449 ... 9.53834396 4.41870642 3.93041386]]\n"
     ]
    }
   ],
   "source": [
    "from sklearn import linear_model\n",
    "from sklearn.linear_model import Ridge\n",
    "\n",
    "d = tfidf.shape[1] # dimension\n",
    "print(d)\n",
    "W = np.zeros((d,users.shape[0]))\n",
    "print('W:', W.shape)\n",
    "b = np.zeros((1,users.shape[0]))\n",
    "print('b: ',b.shape)\n",
    "n_users = users.shape[0]\n",
    "print(n_users) # 943\n",
    "\n",
    "for n in range(n_users):\n",
    "    item_id, score = get_items_rated_by_user(rate_train, n)\n",
    "    clf = Ridge(fit_intercept = True, alpha =0.01)\n",
    "    Xhat = tfidf[item_id,:] # lấy tất cả feature vector of 1 items( movie)\n",
    "    clf.fit(Xhat, score)\n",
    "    \n",
    "    W[:, n] = clf.coef_\n",
    "    b[0, n] = clf.intercept_\n",
    "\n",
    "# dự đoán rating cho mỗi items\n",
    "Yhat =tfidf.dot(W) + b\n",
    "print('predict: ', Yhat)"
   ]
  },
  {
   "cell_type": "code",
   "execution_count": 72,
   "metadata": {},
   "outputs": [
    {
     "name": "stdout",
     "output_type": "stream",
     "text": [
      " User 10 - movie_id (movie): [ 37 109 110 226 424 557 722 724 731 739]\n",
      " User 10 - rating true: [3 3 4 3 4 3 5 3 3 4]\n",
      "Predict rating:  [3.18348495 3.1328256  3.42107302 3.091764   3.34744746 5.20450987\n",
      " 4.01304057 3.34744746 3.42107302 3.71623166]\n"
     ]
    }
   ],
   "source": [
    "# Dưới đây là 1 ví dụ với user =10\n",
    "n =10\n",
    "item_id, score = get_items_rated_by_user(rate_test, n)\n",
    "Yhat[item_id, n]\n",
    "print(' User 10 - movie_id (movie):', item_id)\n",
    "print(' User 10 - rating true:', score)\n",
    "print('Predict rating: ', Yhat[item_id, n])\n"
   ]
  },
  {
   "cell_type": "markdown",
   "metadata": {},
   "source": [
    "# Đánh giá mô hình\n",
    "Để đánh giá mô hình tìm được, chúng ta sẽ sử dụng Root Mean Squared Error (RMSE), tức căn bậc hai của trung bình cộng bình phương của lỗi. Lỗi được tính là hiệu của true rating và predicted rating:"
   ]
  },
  {
   "cell_type": "code",
   "execution_count": 78,
   "metadata": {},
   "outputs": [
    {
     "name": "stdout",
     "output_type": "stream",
     "text": [
      "Evaluate RMSE of training:  0.9089804562826721\n",
      "Evaluate RMSE of test:  1.2703282700393035\n"
     ]
    }
   ],
   "source": [
    "def evaluate( Yhat, rate, W,b):\n",
    "    se =0\n",
    "    cnt =0\n",
    "    for n in range(n_users):\n",
    "        item_id, score_truth = get_items_rated_by_user(rate,n)\n",
    "        score_pred = Yhat[item_id, n]\n",
    "        e = score_truth - score_pred\n",
    "        se +=(e*e).sum(axis =0)\n",
    "        cnt +=e.size\n",
    "    \n",
    "    return np.sqrt(se/cnt)  \n",
    "print('Evaluate RMSE of training: ',evaluate(Yhat, rate_train, W, b))\n",
    "print('Evaluate RMSE of test: ',evaluate(Yhat, rate_test, W, b))"
   ]
  }
 ],
 "metadata": {
  "kernelspec": {
   "display_name": "Python 3",
   "language": "python",
   "name": "python3"
  },
  "language_info": {
   "codemirror_mode": {
    "name": "ipython",
    "version": 3
   },
   "file_extension": ".py",
   "mimetype": "text/x-python",
   "name": "python",
   "nbconvert_exporter": "python",
   "pygments_lexer": "ipython3",
   "version": "3.7.1"
  }
 },
 "nbformat": 4,
 "nbformat_minor": 2
}
