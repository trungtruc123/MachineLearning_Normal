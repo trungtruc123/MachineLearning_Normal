{
 "cells": [
  {
   "cell_type": "code",
   "execution_count": 3,
   "metadata": {},
   "outputs": [
    {
     "name": "stdout",
     "output_type": "stream",
     "text": [
      "U:  [[-0.15202023  0.98837738]\n",
      " [ 0.98837738  0.15202023]]\n",
      "S (chỉ in các phần tử nằm trên đường chéo chính):  [2.17070054 0.69358473]\n",
      "V.T:  [[ 0.59327002  0.47576056 -0.6493709 ]\n",
      " [ 0.78185046 -0.14846601  0.60553093]\n",
      " [-0.19167822  0.86695429  0.46005404]]\n",
      "Check trực giao U : U*U.T -I\n",
      "5.194562551880849e-16\n",
      "Check trực giao V : V*V.T -I\n",
      "3.4074915739604496e-16\n"
     ]
    }
   ],
   "source": [
    "import numpy as np\n",
    "from numpy import linalg as LA\n",
    "m,n = 2, 3\n",
    "A = np.random.randn(m,n)\n",
    "U,S,V = LA.svd(A)\n",
    "print('U: ',U)\n",
    "print('S (chỉ in các phần tử nằm trên đường chéo chính): ',S) \n",
    "print('V.T: ',V)\n",
    "#Check xem U,V có phải là ma trận trực gia không\n",
    "\n",
    "print('Check trực giao U : U*U.T -I')\n",
    "print( LA.norm(U.dot(U.T) - np.eye(m)))\n",
    "print('Check trực giao V : V*V.T -I')\n",
    "print( LA.norm(V.dot(V.T) - np.eye(n)))"
   ]
  }
 ],
 "metadata": {
  "kernelspec": {
   "display_name": "Python 3",
   "language": "python",
   "name": "python3"
  },
  "language_info": {
   "codemirror_mode": {
    "name": "ipython",
    "version": 3
   },
   "file_extension": ".py",
   "mimetype": "text/x-python",
   "name": "python",
   "nbconvert_exporter": "python",
   "pygments_lexer": "ipython3",
   "version": "3.7.1"
  }
 },
 "nbformat": 4,
 "nbformat_minor": 2
}
