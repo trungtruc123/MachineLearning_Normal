{
 "cells": [
  {
   "cell_type": "code",
   "execution_count": 23,
   "metadata": {},
   "outputs": [
    {
     "name": "stdout",
     "output_type": "stream",
     "text": [
      "[[147]\n",
      " [150]\n",
      " [153]\n",
      " [158]\n",
      " [163]\n",
      " [165]\n",
      " [168]\n",
      " [170]\n",
      " [173]\n",
      " [175]\n",
      " [178]\n",
      " [180]\n",
      " [183]]\n",
      "[[49]\n",
      " [50]\n",
      " [51]\n",
      " [54]\n",
      " [58]\n",
      " [59]\n",
      " [60]\n",
      " [62]\n",
      " [63]\n",
      " [64]\n",
      " [66]\n",
      " [67]\n",
      " [68]]\n"
     ]
    },
    {
     "data": {
      "image/png": "[encoded data removed]",
      "text/plain": [
       "<Figure size 432x288 with 1 Axes>"
      ]
     },
     "metadata": {
      "needs_background": "light"
     },
     "output_type": "display_data"
    }
   ],
   "source": [
    "import numpy as np\n",
    "import matplotlib.pyplot as plt\n",
    "\n",
    "#height\n",
    "X = np.array([[147, 150, 153, 158, 163, 165, 168, 170, 173, 175, 178, 180, 183]]).T\n",
    "print(X)\n",
    "#weight\n",
    "y = np.array([[49, 50, 51,  54, 58, 59, 60, 62, 63, 64, 66, 67, 68]]).T\n",
    "print(y)\n",
    "# visualization\n",
    "plt.plot(X,y, 'ro')\n",
    "plt.xlabel('height')\n",
    "plt.ylabel('weight')\n",
    "plt.show()"
   ]
  },
  {
   "cell_type": "code",
   "execution_count": 32,
   "metadata": {},
   "outputs": [
    {
     "name": "stdout",
     "output_type": "stream",
     "text": [
      "13\n",
      "[[1.]\n",
      " [1.]\n",
      " [1.]\n",
      " [1.]\n",
      " [1.]\n",
      " [1.]\n",
      " [1.]\n",
      " [1.]\n",
      " [1.]\n",
      " [1.]\n",
      " [1.]\n",
      " [1.]\n",
      " [1.]]\n",
      "[[  1. 147.]\n",
      " [  1. 150.]\n",
      " [  1. 153.]\n",
      " [  1. 158.]\n",
      " [  1. 163.]\n",
      " [  1. 165.]\n",
      " [  1. 168.]\n",
      " [  1. 170.]\n",
      " [  1. 173.]\n",
      " [  1. 175.]\n",
      " [  1. 178.]\n",
      " [  1. 180.]\n",
      " [  1. 183.]]\n",
      "[[1.30000e+01 2.16300e+03]\n",
      " [2.16300e+03 3.61527e+05]]\n",
      "[[   771.]\n",
      " [129198.]]\n",
      "w =  [[-33.73541021]\n",
      " [  0.55920496]]\n",
      "x0 [145. 185.]\n",
      "y0 [47.34930928 69.71750775]\n"
     ]
    },
    {
     "data": {
      "image/png": "[encoded data removed]",
      "text/plain": [
       "<Figure size 432x288 with 1 Axes>"
      ]
     },
     "metadata": {
      "needs_background": "light"
     },
     "output_type": "display_data"
    }
   ],
   "source": [
    "# Building Xbar\n",
    "print(X.shape[0])\n",
    "one = np.ones((X.shape[0],1))\n",
    "Xbar = np.concatenate((one,X),axis =1)\n",
    "print(one)\n",
    "print(Xbar)\n",
    "# Calculating weights of the fitting line \n",
    "A = np.dot(Xbar.T,Xbar)\n",
    "print(A)\n",
    "b = np.dot(Xbar.T,y)\n",
    "print(b)\n",
    "w = np.dot(np.linalg.pinv(A),b)\n",
    "print(\"w = \",w)\n",
    "# Preparing the fitting line \n",
    "w0 = w[0][0]\n",
    "w1 = w[1][0]\n",
    "x0 = np.linspace(145,185,2)\n",
    "print('x0',x0)\n",
    "y0 = w0 + w1*x0\n",
    "print('y0',y0)\n",
    "# Drawing the fitting line \n",
    "plt.plot(X,y,'ro')\n",
    "plt.plot(x0,y0)\n",
    "plt.show()"
   ]
  },
  {
   "cell_type": "code",
   "execution_count": 34,
   "metadata": {},
   "outputs": [
    {
     "name": "stdout",
     "output_type": "stream",
     "text": [
      "predict height 155 cm => weight = 52.941358894844626\n",
      "predict height 160 cm => weight = 55.73738370454248\n"
     ]
    }
   ],
   "source": [
    "# predict data\n",
    "y1 = w0 + w1 * 155\n",
    "y2 = w0 + w1 * 160\n",
    "print( 'predict height 155 cm => weight =',y1)\n",
    "print( 'predict height 160 cm => weight =',y2)"
   ]
  },
  {
   "cell_type": "code",
   "execution_count": 38,
   "metadata": {},
   "outputs": [
    {
     "name": "stdout",
     "output_type": "stream",
     "text": [
      "Solution of sklearn : w = [[-33.73541021   0.55920496]]\n",
      "Solution of model of you : w = [[-33.73541021   0.55920496]]\n"
     ]
    }
   ],
   "source": [
    "# Used library sklearn\n",
    "from sklearn import datasets , linear_model\n",
    "\n",
    "# fit the model by Linear Regression\n",
    "regr = linear_model.LinearRegression(fit_intercept = False)\n",
    "regr.fit(Xbar, y)\n",
    "# Compare two results\n",
    "print( 'Solution of sklearn : w =',regr.coef_)\n",
    "print( 'Solution of model of you : w =',w.T)"
   ]
  }
 ],
 "metadata": {
  "kernelspec": {
   "display_name": "Python 3",
   "language": "python",
   "name": "python3"
  },
  "language_info": {
   "codemirror_mode": {
    "name": "ipython",
    "version": 3
   },
   "file_extension": ".py",
   "mimetype": "text/x-python",
   "name": "python",
   "nbconvert_exporter": "python",
   "pygments_lexer": "ipython3",
   "version": "3.7.1"
  }
 },
 "nbformat": 4,
 "nbformat_minor": 2
}
